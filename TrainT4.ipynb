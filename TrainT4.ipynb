{
 "cells": [
  {
   "cell_type": "markdown",
   "metadata": {
    "id": "wTC3A-QxjtCT"
   },
   "source": []
  },
  {
   "cell_type": "code",
   "execution_count": 1,
   "metadata": {
    "colab": {
     "base_uri": "https://localhost:8080/"
    },
    "id": "jVVyYMacWje7",
    "outputId": "ae858c2f-93c1-449d-aaad-d86892c6ac91"
   },
   "outputs": [
    {
     "name": "stdout",
     "output_type": "stream",
     "text": [
      "Collecting transformers\n",
      "  Downloading transformers-4.34.1-py3-none-any.whl (7.7 MB)\n",
      "\u001b[2K     \u001b[90m━━━━━━━━━━━━━━━━━━━━━━━━━━━━━━━━━━━━━━━━\u001b[0m \u001b[32m7.7/7.7 MB\u001b[0m \u001b[31m17.3 MB/s\u001b[0m eta \u001b[36m0:00:00\u001b[0m\n",
      "\u001b[?25hRequirement already satisfied: filelock in /usr/local/lib/python3.10/dist-packages (from transformers) (3.12.4)\n",
      "Collecting huggingface-hub<1.0,>=0.16.4 (from transformers)\n",
      "  Downloading huggingface_hub-0.18.0-py3-none-any.whl (301 kB)\n",
      "\u001b[2K     \u001b[90m━━━━━━━━━━━━━━━━━━━━━━━━━━━━━━━━━━━━━━━━\u001b[0m \u001b[32m302.0/302.0 kB\u001b[0m \u001b[31m21.2 MB/s\u001b[0m eta \u001b[36m0:00:00\u001b[0m\n",
      "\u001b[?25hRequirement already satisfied: numpy>=1.17 in /usr/local/lib/python3.10/dist-packages (from transformers) (1.23.5)\n",
      "Requirement already satisfied: packaging>=20.0 in /usr/local/lib/python3.10/dist-packages (from transformers) (23.2)\n",
      "Requirement already satisfied: pyyaml>=5.1 in /usr/local/lib/python3.10/dist-packages (from transformers) (6.0.1)\n",
      "Requirement already satisfied: regex!=2019.12.17 in /usr/local/lib/python3.10/dist-packages (from transformers) (2023.6.3)\n",
      "Requirement already satisfied: requests in /usr/local/lib/python3.10/dist-packages (from transformers) (2.31.0)\n",
      "Collecting tokenizers<0.15,>=0.14 (from transformers)\n",
      "  Downloading tokenizers-0.14.1-cp310-cp310-manylinux_2_17_x86_64.manylinux2014_x86_64.whl (3.8 MB)\n",
      "\u001b[2K     \u001b[90m━━━━━━━━━━━━━━━━━━━━━━━━━━━━━━━━━━━━━━━━\u001b[0m \u001b[32m3.8/3.8 MB\u001b[0m \u001b[31m25.2 MB/s\u001b[0m eta \u001b[36m0:00:00\u001b[0m\n",
      "\u001b[?25hCollecting safetensors>=0.3.1 (from transformers)\n",
      "  Downloading safetensors-0.4.0-cp310-cp310-manylinux_2_17_x86_64.manylinux2014_x86_64.whl (1.3 MB)\n",
      "\u001b[2K     \u001b[90m━━━━━━━━━━━━━━━━━━━━━━━━━━━━━━━━━━━━━━━━\u001b[0m \u001b[32m1.3/1.3 MB\u001b[0m \u001b[31m42.1 MB/s\u001b[0m eta \u001b[36m0:00:00\u001b[0m\n",
      "\u001b[?25hRequirement already satisfied: tqdm>=4.27 in /usr/local/lib/python3.10/dist-packages (from transformers) (4.66.1)\n",
      "Requirement already satisfied: fsspec>=2023.5.0 in /usr/local/lib/python3.10/dist-packages (from huggingface-hub<1.0,>=0.16.4->transformers) (2023.6.0)\n",
      "Requirement already satisfied: typing-extensions>=3.7.4.3 in /usr/local/lib/python3.10/dist-packages (from huggingface-hub<1.0,>=0.16.4->transformers) (4.5.0)\n",
      "Collecting huggingface-hub<1.0,>=0.16.4 (from transformers)\n",
      "  Downloading huggingface_hub-0.17.3-py3-none-any.whl (295 kB)\n",
      "\u001b[2K     \u001b[90m━━━━━━━━━━━━━━━━━━━━━━━━━━━━━━━━━━━━━━━━\u001b[0m \u001b[32m295.0/295.0 kB\u001b[0m \u001b[31m31.1 MB/s\u001b[0m eta \u001b[36m0:00:00\u001b[0m\n",
      "\u001b[?25hRequirement already satisfied: charset-normalizer<4,>=2 in /usr/local/lib/python3.10/dist-packages (from requests->transformers) (3.3.1)\n",
      "Requirement already satisfied: idna<4,>=2.5 in /usr/local/lib/python3.10/dist-packages (from requests->transformers) (3.4)\n",
      "Requirement already satisfied: urllib3<3,>=1.21.1 in /usr/local/lib/python3.10/dist-packages (from requests->transformers) (2.0.7)\n",
      "Requirement already satisfied: certifi>=2017.4.17 in /usr/local/lib/python3.10/dist-packages (from requests->transformers) (2023.7.22)\n",
      "Installing collected packages: safetensors, huggingface-hub, tokenizers, transformers\n",
      "Successfully installed huggingface-hub-0.17.3 safetensors-0.4.0 tokenizers-0.14.1 transformers-4.34.1\n"
     ]
    }
   ],
   "source": [
    "!pip install transformers\n",
    "from transformers import AutoTokenizer, AutoModelForTokenClassification,AutoModel\n",
    "\n"
   ]
  },
  {
   "cell_type": "markdown",
   "metadata": {
    "id": "3FVUx-Ok8CbY"
   },
   "source": [
    "Intializing Model Tokenizer and import libraries\n"
   ]
  },
  {
   "cell_type": "code",
   "execution_count": 2,
   "metadata": {
    "colab": {
     "base_uri": "https://localhost:8080/",
     "height": 81,
     "referenced_widgets": [
      "9b5c3156affa49d7bdcf4c36ffb8393d",
      "b6b480968f3b4649a29e3c9f9bbc774a",
      "e1701868ebe1447d921b42b817ebbacb",
      "f2e70df8d5584080bb8946365c3e9fff",
      "f950516e59004d20ba06598d936ad5b6",
      "4d628a8762bf4f33b368d05948894012",
      "399e103a92ae4e529431eaab03d9cb8f",
      "740c69c46b05415e851c89deb5520753",
      "8703bdd06b304842a711e2dfa8d85f28",
      "260edf9a8588483ba8a7911bc70f68c0",
      "906515fa703e45bba4fd5e0ce197b7cb",
      "33ab09dab81c4c579b83ed962fbaa96b",
      "d9327e59d4dc40d1bbce4a5aa6bb7258",
      "5bddb2724806455eb0461450686ba2fb",
      "b3ac68fb5ad64dfda87a2ad62bee8c36",
      "79e13f028a634cb69fea9496db31477b",
      "3548464b26cf42389f7ad5e589a3e4aa",
      "856462a46b3a447e9dd6b037257539ef",
      "0ac00bcf58ef4342abdf16abd8db3671",
      "8ede9405142e4c1f8b920152563c76eb",
      "ba681016b5de4d4d9d272db186ffec6a",
      "b63a91a2fa4a40af8bf34b866e4f87ac"
     ]
    },
    "id": "B8ihvmUlymfq",
    "outputId": "895d304f-b525-45f0-b449-d9e698c63a81"
   },
   "outputs": [
    {
     "data": {
      "application/vnd.jupyter.widget-view+json": {
       "model_id": "9b5c3156affa49d7bdcf4c36ffb8393d",
       "version_major": 2,
       "version_minor": 0
      },
      "text/plain": [
       "Downloading (…)lve/main/config.json:   0%|          | 0.00/385 [00:00<?, ?B/s]"
      ]
     },
     "metadata": {},
     "output_type": "display_data"
    },
    {
     "data": {
      "application/vnd.jupyter.widget-view+json": {
       "model_id": "33ab09dab81c4c579b83ed962fbaa96b",
       "version_major": 2,
       "version_minor": 0
      },
      "text/plain": [
       "Downloading (…)solve/main/vocab.txt:   0%|          | 0.00/213k [00:00<?, ?B/s]"
      ]
     },
     "metadata": {},
     "output_type": "display_data"
    }
   ],
   "source": [
    "modelName = \"emilyalsentzer/Bio_ClinicalBERT\"\n",
    "tokenizer = AutoTokenizer.from_pretrained(modelName)\n"
   ]
  },
  {
   "cell_type": "code",
   "execution_count": 1,
   "metadata": {
    "id": "KKF72IBeaW0s"
   },
   "outputs": [
    {
     "name": "stderr",
     "output_type": "stream",
     "text": [
      "C:\\Users\\ASUS\\anaconda3\\envs\\shubham\\lib\\site-packages\\tqdm\\auto.py:21: TqdmWarning: IProgress not found. Please update jupyter and ipywidgets. See https://ipywidgets.readthedocs.io/en/stable/user_install.html\n",
      "  from .autonotebook import tqdm as notebook_tqdm\n"
     ]
    }
   ],
   "source": [
    "import numpy as np\n",
    "import pandas as pd\n",
    "import torch\n",
    "import torch.nn as nn\n",
    "from tqdm import tqdm\n",
    "from torch.optim import Adam,AdamW\n",
    "import torch.nn.functional as F\n",
    "from collections import Counter\n",
    "import itertools\n",
    "from collections import defaultdict\n",
    "from torch.utils.data import DataLoader\n",
    "from sklearn.metrics import accuracy_score,f1_score, precision_score, recall_score\n",
    "torch.random.manual_seed(6)\n",
    "np.random.seed(6)"
   ]
  },
  {
   "cell_type": "code",
   "execution_count": 4,
   "metadata": {
    "colab": {
     "base_uri": "https://localhost:8080/"
    },
    "id": "unEYkhteW6MB",
    "outputId": "a97fc6e3-fb00-4951-9272-1b214cbf7a30"
   },
   "outputs": [
    {
     "name": "stdout",
     "output_type": "stream",
     "text": [
      "Mounted at /content/drive\n"
     ]
    }
   ],
   "source": [
    "# from google.colab import drive\n",
    "# drive.mount('/content/drive')"
   ]
  },
  {
   "cell_type": "markdown",
   "metadata": {
    "id": "1vXV1qEQ8avg"
   },
   "source": [
    "Please input paths here to dataset G1, G2, G3 and G4"
   ]
  },
  {
   "cell_type": "code",
   "execution_count": 5,
   "metadata": {
    "id": "7OKBxSFl2Cki"
   },
   "outputs": [],
   "source": [
    "pathToG1 = 'drive/MyDrive/nerDataset/G1.xlsx'\n",
    "pathToG2 = 'drive/MyDrive/nerDataset/G2.xlsx'\n",
    "pathToG3 = 'drive/MyDrive/nerDataset/G3.xlsx'\n",
    "pathToG4 = 'drive/MyDrive/nerDataset/G1.xlsx'"
   ]
  },
  {
   "cell_type": "markdown",
   "metadata": {
    "id": "cTJVjrP_8iqb"
   },
   "source": [
    "1) Reading data files as dataframe.\n",
    "2) LowerCasing\n",
    "3) Splitting into train, test & validation sets with 80%, 10% and 10% respectively\n"
   ]
  },
  {
   "cell_type": "code",
   "execution_count": 6,
   "metadata": {
    "colab": {
     "base_uri": "https://localhost:8080/"
    },
    "id": "wNkdqTHCZZ9R",
    "outputId": "fdcd7f06-1b7d-4205-ed9f-2ce0a5b29ea8"
   },
   "outputs": [
    {
     "data": {
      "text/plain": [
       "(5884, 736, 736)"
      ]
     },
     "execution_count": 6,
     "metadata": {},
     "output_type": "execute_result"
    }
   ],
   "source": [
    "dfG1 = pd.read_excel(pathToG1, index_col=0)\n",
    "dfG1.dropna(subset=['text','tags'], inplace=True)\n",
    "dfG1.reset_index(inplace = True)\n",
    "#try lower casing and uncased model\n",
    "dfG1['tags'] = dfG1['tags'].apply(lambda x: x.lower())\n",
    "dfG1['text'] = dfG1['text'].apply(lambda x: x.lower())\n",
    "dfTrainG1,dfValG1,dfTestG1 = np.split(dfG1.sample(frac=1, random_state=42),[int(.8 * len(dfG1)),int(.9 * len(dfG1))])\n",
    "len(dfTrainG1),len(dfTestG1),len(dfValG1)"
   ]
  },
  {
   "cell_type": "code",
   "execution_count": 7,
   "metadata": {
    "colab": {
     "base_uri": "https://localhost:8080/"
    },
    "id": "C_ZJ9C49w-nf",
    "outputId": "18924245-0d6c-4139-d2cd-ba5155d3221d"
   },
   "outputs": [
    {
     "data": {
      "text/plain": [
       "(5163, 646, 645)"
      ]
     },
     "execution_count": 7,
     "metadata": {},
     "output_type": "execute_result"
    }
   ],
   "source": [
    "dfG2 = pd.read_excel(pathToG2, index_col=0)\n",
    "dfG2.dropna(subset=['text','tags'], inplace=True)\n",
    "dfG2.reset_index(inplace = True)\n",
    "#try lower casing and uncased model\n",
    "dfG2['tags'] = dfG2['tags'].apply(lambda x: x.lower())\n",
    "dfG2['text'] = dfG2['text'].apply(lambda x: x.lower())\n",
    "dfTrainG2,dfValG2,dfTestG2 = np.split(dfG2.sample(frac=1, random_state=42),[int(.8 * len(dfG2)),int(.9 * len(dfG2))])\n",
    "len(dfTrainG2),len(dfTestG2),len(dfValG2)"
   ]
  },
  {
   "cell_type": "code",
   "execution_count": 8,
   "metadata": {
    "colab": {
     "base_uri": "https://localhost:8080/"
    },
    "id": "O_jhvcOgw_E7",
    "outputId": "f697991f-bfae-4652-9ce3-ad627f82813f"
   },
   "outputs": [
    {
     "data": {
      "text/plain": [
       "(5021, 628, 628)"
      ]
     },
     "execution_count": 8,
     "metadata": {},
     "output_type": "execute_result"
    }
   ],
   "source": [
    "dfG3 = pd.read_excel(pathToG3, index_col=0)\n",
    "dfG3.dropna(subset=['text','tags'], inplace=True)\n",
    "dfG3.reset_index(inplace = True)\n",
    "#try lower casing and uncased model\n",
    "dfG3['tags'] = dfG3['tags'].apply(lambda x: x.lower())\n",
    "dfG3['text'] = dfG3['text'].apply(lambda x: x.lower())\n",
    "dfTrainG3,dfValG3,dfTestG3 = np.split(dfG3.sample(frac=1, random_state=42),[int(.8 * len(dfG3)),int(.9 * len(dfG3))])\n",
    "len(dfTrainG3),len(dfTestG3),len(dfValG3)"
   ]
  },
  {
   "cell_type": "code",
   "execution_count": 9,
   "metadata": {
    "colab": {
     "base_uri": "https://localhost:8080/"
    },
    "id": "I987SR7Hw_Pb",
    "outputId": "2a89bc77-a460-491b-a285-0c6aef0b1987"
   },
   "outputs": [
    {
     "data": {
      "text/plain": [
       "(5884, 736, 736)"
      ]
     },
     "execution_count": 9,
     "metadata": {},
     "output_type": "execute_result"
    }
   ],
   "source": [
    "dfG4 = pd.read_excel(pathToG4, index_col=0)\n",
    "dfG4.dropna(subset=['text','tags'], inplace=True)\n",
    "dfG4.reset_index(inplace = True)\n",
    "#try lower casing and uncased model\n",
    "dfG4['tags'] = dfG4['tags'].apply(lambda x: x.lower())\n",
    "dfG4['text'] = dfG4['text'].apply(lambda x: x.lower())\n",
    "dfTrainG4,dfValG4,dfTestG4 = np.split(dfG4.sample(frac=1, random_state=42),[int(.8 * len(dfG4)),int(.9 * len(dfG4))])\n",
    "len(dfTrainG4),len(dfTestG4),len(dfValG4)"
   ]
  },
  {
   "cell_type": "code",
   "execution_count": 10,
   "metadata": {
    "colab": {
     "base_uri": "https://localhost:8080/",
     "height": 206
    },
    "id": "NX7M04NDBDAk",
    "outputId": "61e78790-a85f-429f-a7ff-d0567e0fa4de"
   },
   "outputs": [
    {
     "data": {
      "text/html": [
       "\n",
       "  <div id=\"df-17a21235-8d14-417f-902a-d18891038982\" class=\"colab-df-container\">\n",
       "    <div>\n",
       "<style scoped>\n",
       "    .dataframe tbody tr th:only-of-type {\n",
       "        vertical-align: middle;\n",
       "    }\n",
       "\n",
       "    .dataframe tbody tr th {\n",
       "        vertical-align: top;\n",
       "    }\n",
       "\n",
       "    .dataframe thead th {\n",
       "        text-align: right;\n",
       "    }\n",
       "</style>\n",
       "<table border=\"1\" class=\"dataframe\">\n",
       "  <thead>\n",
       "    <tr style=\"text-align: right;\">\n",
       "      <th></th>\n",
       "      <th>index</th>\n",
       "      <th>ID</th>\n",
       "      <th>tags</th>\n",
       "      <th>text</th>\n",
       "    </tr>\n",
       "  </thead>\n",
       "  <tbody>\n",
       "    <tr>\n",
       "      <th>1893</th>\n",
       "      <td>1893</td>\n",
       "      <td>NCT02945800</td>\n",
       "      <td>1:38:chronic_disease</td>\n",
       "      <td>psychiatric illness/social situations that wou...</td>\n",
       "    </tr>\n",
       "    <tr>\n",
       "      <th>4384</th>\n",
       "      <td>4384</td>\n",
       "      <td>NCT02464878</td>\n",
       "      <td>1:35:chronic_disease,,,</td>\n",
       "      <td>selective or severe iga deficiency (levels &lt; 5...</td>\n",
       "    </tr>\n",
       "    <tr>\n",
       "      <th>6820</th>\n",
       "      <td>6820</td>\n",
       "      <td>NCT02059239</td>\n",
       "      <td>84:92:cancer,104:122:cancer,136:175:treatment</td>\n",
       "      <td>must have histologically or cytologically conf...</td>\n",
       "    </tr>\n",
       "    <tr>\n",
       "      <th>5905</th>\n",
       "      <td>5905</td>\n",
       "      <td>NCT02584647</td>\n",
       "      <td>10:33:chronic_disease,35:61:chronic_disease,,1...</td>\n",
       "      <td>unstable coronary artery disease (myocardial i...</td>\n",
       "    </tr>\n",
       "    <tr>\n",
       "      <th>1669</th>\n",
       "      <td>1669</td>\n",
       "      <td>NCT02826577</td>\n",
       "      <td>1:19:chronic_disease</td>\n",
       "      <td>psychotic disorder</td>\n",
       "    </tr>\n",
       "  </tbody>\n",
       "</table>\n",
       "</div>\n",
       "    <div class=\"colab-df-buttons\">\n",
       "\n",
       "  <div class=\"colab-df-container\">\n",
       "    <button class=\"colab-df-convert\" onclick=\"convertToInteractive('df-17a21235-8d14-417f-902a-d18891038982')\"\n",
       "            title=\"Convert this dataframe to an interactive table.\"\n",
       "            style=\"display:none;\">\n",
       "\n",
       "  <svg xmlns=\"http://www.w3.org/2000/svg\" height=\"24px\" viewBox=\"0 -960 960 960\">\n",
       "    <path d=\"M120-120v-720h720v720H120Zm60-500h600v-160H180v160Zm220 220h160v-160H400v160Zm0 220h160v-160H400v160ZM180-400h160v-160H180v160Zm440 0h160v-160H620v160ZM180-180h160v-160H180v160Zm440 0h160v-160H620v160Z\"/>\n",
       "  </svg>\n",
       "    </button>\n",
       "\n",
       "  <style>\n",
       "    .colab-df-container {\n",
       "      display:flex;\n",
       "      gap: 12px;\n",
       "    }\n",
       "\n",
       "    .colab-df-convert {\n",
       "      background-color: #E8F0FE;\n",
       "      border: none;\n",
       "      border-radius: 50%;\n",
       "      cursor: pointer;\n",
       "      display: none;\n",
       "      fill: #1967D2;\n",
       "      height: 32px;\n",
       "      padding: 0 0 0 0;\n",
       "      width: 32px;\n",
       "    }\n",
       "\n",
       "    .colab-df-convert:hover {\n",
       "      background-color: #E2EBFA;\n",
       "      box-shadow: 0px 1px 2px rgba(60, 64, 67, 0.3), 0px 1px 3px 1px rgba(60, 64, 67, 0.15);\n",
       "      fill: #174EA6;\n",
       "    }\n",
       "\n",
       "    .colab-df-buttons div {\n",
       "      margin-bottom: 4px;\n",
       "    }\n",
       "\n",
       "    [theme=dark] .colab-df-convert {\n",
       "      background-color: #3B4455;\n",
       "      fill: #D2E3FC;\n",
       "    }\n",
       "\n",
       "    [theme=dark] .colab-df-convert:hover {\n",
       "      background-color: #434B5C;\n",
       "      box-shadow: 0px 1px 3px 1px rgba(0, 0, 0, 0.15);\n",
       "      filter: drop-shadow(0px 1px 2px rgba(0, 0, 0, 0.3));\n",
       "      fill: #FFFFFF;\n",
       "    }\n",
       "  </style>\n",
       "\n",
       "    <script>\n",
       "      const buttonEl =\n",
       "        document.querySelector('#df-17a21235-8d14-417f-902a-d18891038982 button.colab-df-convert');\n",
       "      buttonEl.style.display =\n",
       "        google.colab.kernel.accessAllowed ? 'block' : 'none';\n",
       "\n",
       "      async function convertToInteractive(key) {\n",
       "        const element = document.querySelector('#df-17a21235-8d14-417f-902a-d18891038982');\n",
       "        const dataTable =\n",
       "          await google.colab.kernel.invokeFunction('convertToInteractive',\n",
       "                                                    [key], {});\n",
       "        if (!dataTable) return;\n",
       "\n",
       "        const docLinkHtml = 'Like what you see? Visit the ' +\n",
       "          '<a target=\"_blank\" href=https://colab.research.google.com/notebooks/data_table.ipynb>data table notebook</a>'\n",
       "          + ' to learn more about interactive tables.';\n",
       "        element.innerHTML = '';\n",
       "        dataTable['output_type'] = 'display_data';\n",
       "        await google.colab.output.renderOutput(dataTable, element);\n",
       "        const docLink = document.createElement('div');\n",
       "        docLink.innerHTML = docLinkHtml;\n",
       "        element.appendChild(docLink);\n",
       "      }\n",
       "    </script>\n",
       "  </div>\n",
       "\n",
       "\n",
       "<div id=\"df-3d4f619f-3f58-41fe-b0be-abc303ee002a\">\n",
       "  <button class=\"colab-df-quickchart\" onclick=\"quickchart('df-3d4f619f-3f58-41fe-b0be-abc303ee002a')\"\n",
       "            title=\"Suggest charts.\"\n",
       "            style=\"display:none;\">\n",
       "\n",
       "<svg xmlns=\"http://www.w3.org/2000/svg\" height=\"24px\"viewBox=\"0 0 24 24\"\n",
       "     width=\"24px\">\n",
       "    <g>\n",
       "        <path d=\"M19 3H5c-1.1 0-2 .9-2 2v14c0 1.1.9 2 2 2h14c1.1 0 2-.9 2-2V5c0-1.1-.9-2-2-2zM9 17H7v-7h2v7zm4 0h-2V7h2v10zm4 0h-2v-4h2v4z\"/>\n",
       "    </g>\n",
       "</svg>\n",
       "  </button>\n",
       "\n",
       "<style>\n",
       "  .colab-df-quickchart {\n",
       "      --bg-color: #E8F0FE;\n",
       "      --fill-color: #1967D2;\n",
       "      --hover-bg-color: #E2EBFA;\n",
       "      --hover-fill-color: #174EA6;\n",
       "      --disabled-fill-color: #AAA;\n",
       "      --disabled-bg-color: #DDD;\n",
       "  }\n",
       "\n",
       "  [theme=dark] .colab-df-quickchart {\n",
       "      --bg-color: #3B4455;\n",
       "      --fill-color: #D2E3FC;\n",
       "      --hover-bg-color: #434B5C;\n",
       "      --hover-fill-color: #FFFFFF;\n",
       "      --disabled-bg-color: #3B4455;\n",
       "      --disabled-fill-color: #666;\n",
       "  }\n",
       "\n",
       "  .colab-df-quickchart {\n",
       "    background-color: var(--bg-color);\n",
       "    border: none;\n",
       "    border-radius: 50%;\n",
       "    cursor: pointer;\n",
       "    display: none;\n",
       "    fill: var(--fill-color);\n",
       "    height: 32px;\n",
       "    padding: 0;\n",
       "    width: 32px;\n",
       "  }\n",
       "\n",
       "  .colab-df-quickchart:hover {\n",
       "    background-color: var(--hover-bg-color);\n",
       "    box-shadow: 0 1px 2px rgba(60, 64, 67, 0.3), 0 1px 3px 1px rgba(60, 64, 67, 0.15);\n",
       "    fill: var(--button-hover-fill-color);\n",
       "  }\n",
       "\n",
       "  .colab-df-quickchart-complete:disabled,\n",
       "  .colab-df-quickchart-complete:disabled:hover {\n",
       "    background-color: var(--disabled-bg-color);\n",
       "    fill: var(--disabled-fill-color);\n",
       "    box-shadow: none;\n",
       "  }\n",
       "\n",
       "  .colab-df-spinner {\n",
       "    border: 2px solid var(--fill-color);\n",
       "    border-color: transparent;\n",
       "    border-bottom-color: var(--fill-color);\n",
       "    animation:\n",
       "      spin 1s steps(1) infinite;\n",
       "  }\n",
       "\n",
       "  @keyframes spin {\n",
       "    0% {\n",
       "      border-color: transparent;\n",
       "      border-bottom-color: var(--fill-color);\n",
       "      border-left-color: var(--fill-color);\n",
       "    }\n",
       "    20% {\n",
       "      border-color: transparent;\n",
       "      border-left-color: var(--fill-color);\n",
       "      border-top-color: var(--fill-color);\n",
       "    }\n",
       "    30% {\n",
       "      border-color: transparent;\n",
       "      border-left-color: var(--fill-color);\n",
       "      border-top-color: var(--fill-color);\n",
       "      border-right-color: var(--fill-color);\n",
       "    }\n",
       "    40% {\n",
       "      border-color: transparent;\n",
       "      border-right-color: var(--fill-color);\n",
       "      border-top-color: var(--fill-color);\n",
       "    }\n",
       "    60% {\n",
       "      border-color: transparent;\n",
       "      border-right-color: var(--fill-color);\n",
       "    }\n",
       "    80% {\n",
       "      border-color: transparent;\n",
       "      border-right-color: var(--fill-color);\n",
       "      border-bottom-color: var(--fill-color);\n",
       "    }\n",
       "    90% {\n",
       "      border-color: transparent;\n",
       "      border-bottom-color: var(--fill-color);\n",
       "    }\n",
       "  }\n",
       "</style>\n",
       "\n",
       "  <script>\n",
       "    async function quickchart(key) {\n",
       "      const quickchartButtonEl =\n",
       "        document.querySelector('#' + key + ' button');\n",
       "      quickchartButtonEl.disabled = true;  // To prevent multiple clicks.\n",
       "      quickchartButtonEl.classList.add('colab-df-spinner');\n",
       "      try {\n",
       "        const charts = await google.colab.kernel.invokeFunction(\n",
       "            'suggestCharts', [key], {});\n",
       "      } catch (error) {\n",
       "        console.error('Error during call to suggestCharts:', error);\n",
       "      }\n",
       "      quickchartButtonEl.classList.remove('colab-df-spinner');\n",
       "      quickchartButtonEl.classList.add('colab-df-quickchart-complete');\n",
       "    }\n",
       "    (() => {\n",
       "      let quickchartButtonEl =\n",
       "        document.querySelector('#df-3d4f619f-3f58-41fe-b0be-abc303ee002a button');\n",
       "      quickchartButtonEl.style.display =\n",
       "        google.colab.kernel.accessAllowed ? 'block' : 'none';\n",
       "    })();\n",
       "  </script>\n",
       "</div>\n",
       "    </div>\n",
       "  </div>\n"
      ],
      "text/plain": [
       "      index           ID                                               tags  \\\n",
       "1893   1893  NCT02945800                               1:38:chronic_disease   \n",
       "4384   4384  NCT02464878                            1:35:chronic_disease,,,   \n",
       "6820   6820  NCT02059239      84:92:cancer,104:122:cancer,136:175:treatment   \n",
       "5905   5905  NCT02584647  10:33:chronic_disease,35:61:chronic_disease,,1...   \n",
       "1669   1669  NCT02826577                               1:19:chronic_disease   \n",
       "\n",
       "                                                   text  \n",
       "1893  psychiatric illness/social situations that wou...  \n",
       "4384  selective or severe iga deficiency (levels < 5...  \n",
       "6820  must have histologically or cytologically conf...  \n",
       "5905  unstable coronary artery disease (myocardial i...  \n",
       "1669                                 psychotic disorder  "
      ]
     },
     "execution_count": 10,
     "metadata": {},
     "output_type": "execute_result"
    }
   ],
   "source": [
    "dfTrainG1.head()"
   ]
  },
  {
   "cell_type": "code",
   "execution_count": 11,
   "metadata": {
    "colab": {
     "base_uri": "https://localhost:8080/",
     "height": 206
    },
    "id": "G1vaEnvLliKP",
    "outputId": "45e27974-c496-4d83-ed7f-b42e065de164"
   },
   "outputs": [
    {
     "data": {
      "text/html": [
       "\n",
       "  <div id=\"df-bee26db0-c93b-40da-9f09-1cc7d0f857aa\" class=\"colab-df-container\">\n",
       "    <div>\n",
       "<style scoped>\n",
       "    .dataframe tbody tr th:only-of-type {\n",
       "        vertical-align: middle;\n",
       "    }\n",
       "\n",
       "    .dataframe tbody tr th {\n",
       "        vertical-align: top;\n",
       "    }\n",
       "\n",
       "    .dataframe thead th {\n",
       "        text-align: right;\n",
       "    }\n",
       "</style>\n",
       "<table border=\"1\" class=\"dataframe\">\n",
       "  <thead>\n",
       "    <tr style=\"text-align: right;\">\n",
       "      <th></th>\n",
       "      <th>index</th>\n",
       "      <th>ID</th>\n",
       "      <th>tags</th>\n",
       "      <th>text</th>\n",
       "    </tr>\n",
       "  </thead>\n",
       "  <tbody>\n",
       "    <tr>\n",
       "      <th>2681</th>\n",
       "      <td>2681</td>\n",
       "      <td>NCT02099240</td>\n",
       "      <td>32:45:chronic_disease</td>\n",
       "      <td>pathology report indicative of osteomyelitis</td>\n",
       "    </tr>\n",
       "    <tr>\n",
       "      <th>2993</th>\n",
       "      <td>2993</td>\n",
       "      <td>NCT02309580</td>\n",
       "      <td>29:60:treatment,</td>\n",
       "      <td>patients who have undergone autologous stem ce...</td>\n",
       "    </tr>\n",
       "    <tr>\n",
       "      <th>5512</th>\n",
       "      <td>5512</td>\n",
       "      <td>NCT03176979</td>\n",
       "      <td>,23:31:treatment,33:40:treatment,45:62:treatme...</td>\n",
       "      <td>women with history of surgical, medical, or ra...</td>\n",
       "    </tr>\n",
       "    <tr>\n",
       "      <th>6313</th>\n",
       "      <td>6313</td>\n",
       "      <td>NCT02419495</td>\n",
       "      <td>1:13:treatment,18:31:treatment,45:72:treatment...</td>\n",
       "      <td>chemotherapy, or immunotherapy or any other sy...</td>\n",
       "    </tr>\n",
       "    <tr>\n",
       "      <th>1191</th>\n",
       "      <td>1191</td>\n",
       "      <td>NCT01884740</td>\n",
       "      <td>,,,144:153:treatment</td>\n",
       "      <td>patients of reproductive age must agree to use...</td>\n",
       "    </tr>\n",
       "  </tbody>\n",
       "</table>\n",
       "</div>\n",
       "    <div class=\"colab-df-buttons\">\n",
       "\n",
       "  <div class=\"colab-df-container\">\n",
       "    <button class=\"colab-df-convert\" onclick=\"convertToInteractive('df-bee26db0-c93b-40da-9f09-1cc7d0f857aa')\"\n",
       "            title=\"Convert this dataframe to an interactive table.\"\n",
       "            style=\"display:none;\">\n",
       "\n",
       "  <svg xmlns=\"http://www.w3.org/2000/svg\" height=\"24px\" viewBox=\"0 -960 960 960\">\n",
       "    <path d=\"M120-120v-720h720v720H120Zm60-500h600v-160H180v160Zm220 220h160v-160H400v160Zm0 220h160v-160H400v160ZM180-400h160v-160H180v160Zm440 0h160v-160H620v160ZM180-180h160v-160H180v160Zm440 0h160v-160H620v160Z\"/>\n",
       "  </svg>\n",
       "    </button>\n",
       "\n",
       "  <style>\n",
       "    .colab-df-container {\n",
       "      display:flex;\n",
       "      gap: 12px;\n",
       "    }\n",
       "\n",
       "    .colab-df-convert {\n",
       "      background-color: #E8F0FE;\n",
       "      border: none;\n",
       "      border-radius: 50%;\n",
       "      cursor: pointer;\n",
       "      display: none;\n",
       "      fill: #1967D2;\n",
       "      height: 32px;\n",
       "      padding: 0 0 0 0;\n",
       "      width: 32px;\n",
       "    }\n",
       "\n",
       "    .colab-df-convert:hover {\n",
       "      background-color: #E2EBFA;\n",
       "      box-shadow: 0px 1px 2px rgba(60, 64, 67, 0.3), 0px 1px 3px 1px rgba(60, 64, 67, 0.15);\n",
       "      fill: #174EA6;\n",
       "    }\n",
       "\n",
       "    .colab-df-buttons div {\n",
       "      margin-bottom: 4px;\n",
       "    }\n",
       "\n",
       "    [theme=dark] .colab-df-convert {\n",
       "      background-color: #3B4455;\n",
       "      fill: #D2E3FC;\n",
       "    }\n",
       "\n",
       "    [theme=dark] .colab-df-convert:hover {\n",
       "      background-color: #434B5C;\n",
       "      box-shadow: 0px 1px 3px 1px rgba(0, 0, 0, 0.15);\n",
       "      filter: drop-shadow(0px 1px 2px rgba(0, 0, 0, 0.3));\n",
       "      fill: #FFFFFF;\n",
       "    }\n",
       "  </style>\n",
       "\n",
       "    <script>\n",
       "      const buttonEl =\n",
       "        document.querySelector('#df-bee26db0-c93b-40da-9f09-1cc7d0f857aa button.colab-df-convert');\n",
       "      buttonEl.style.display =\n",
       "        google.colab.kernel.accessAllowed ? 'block' : 'none';\n",
       "\n",
       "      async function convertToInteractive(key) {\n",
       "        const element = document.querySelector('#df-bee26db0-c93b-40da-9f09-1cc7d0f857aa');\n",
       "        const dataTable =\n",
       "          await google.colab.kernel.invokeFunction('convertToInteractive',\n",
       "                                                    [key], {});\n",
       "        if (!dataTable) return;\n",
       "\n",
       "        const docLinkHtml = 'Like what you see? Visit the ' +\n",
       "          '<a target=\"_blank\" href=https://colab.research.google.com/notebooks/data_table.ipynb>data table notebook</a>'\n",
       "          + ' to learn more about interactive tables.';\n",
       "        element.innerHTML = '';\n",
       "        dataTable['output_type'] = 'display_data';\n",
       "        await google.colab.output.renderOutput(dataTable, element);\n",
       "        const docLink = document.createElement('div');\n",
       "        docLink.innerHTML = docLinkHtml;\n",
       "        element.appendChild(docLink);\n",
       "      }\n",
       "    </script>\n",
       "  </div>\n",
       "\n",
       "\n",
       "<div id=\"df-df006b60-8b1c-46b3-9611-899031f095e0\">\n",
       "  <button class=\"colab-df-quickchart\" onclick=\"quickchart('df-df006b60-8b1c-46b3-9611-899031f095e0')\"\n",
       "            title=\"Suggest charts.\"\n",
       "            style=\"display:none;\">\n",
       "\n",
       "<svg xmlns=\"http://www.w3.org/2000/svg\" height=\"24px\"viewBox=\"0 0 24 24\"\n",
       "     width=\"24px\">\n",
       "    <g>\n",
       "        <path d=\"M19 3H5c-1.1 0-2 .9-2 2v14c0 1.1.9 2 2 2h14c1.1 0 2-.9 2-2V5c0-1.1-.9-2-2-2zM9 17H7v-7h2v7zm4 0h-2V7h2v10zm4 0h-2v-4h2v4z\"/>\n",
       "    </g>\n",
       "</svg>\n",
       "  </button>\n",
       "\n",
       "<style>\n",
       "  .colab-df-quickchart {\n",
       "      --bg-color: #E8F0FE;\n",
       "      --fill-color: #1967D2;\n",
       "      --hover-bg-color: #E2EBFA;\n",
       "      --hover-fill-color: #174EA6;\n",
       "      --disabled-fill-color: #AAA;\n",
       "      --disabled-bg-color: #DDD;\n",
       "  }\n",
       "\n",
       "  [theme=dark] .colab-df-quickchart {\n",
       "      --bg-color: #3B4455;\n",
       "      --fill-color: #D2E3FC;\n",
       "      --hover-bg-color: #434B5C;\n",
       "      --hover-fill-color: #FFFFFF;\n",
       "      --disabled-bg-color: #3B4455;\n",
       "      --disabled-fill-color: #666;\n",
       "  }\n",
       "\n",
       "  .colab-df-quickchart {\n",
       "    background-color: var(--bg-color);\n",
       "    border: none;\n",
       "    border-radius: 50%;\n",
       "    cursor: pointer;\n",
       "    display: none;\n",
       "    fill: var(--fill-color);\n",
       "    height: 32px;\n",
       "    padding: 0;\n",
       "    width: 32px;\n",
       "  }\n",
       "\n",
       "  .colab-df-quickchart:hover {\n",
       "    background-color: var(--hover-bg-color);\n",
       "    box-shadow: 0 1px 2px rgba(60, 64, 67, 0.3), 0 1px 3px 1px rgba(60, 64, 67, 0.15);\n",
       "    fill: var(--button-hover-fill-color);\n",
       "  }\n",
       "\n",
       "  .colab-df-quickchart-complete:disabled,\n",
       "  .colab-df-quickchart-complete:disabled:hover {\n",
       "    background-color: var(--disabled-bg-color);\n",
       "    fill: var(--disabled-fill-color);\n",
       "    box-shadow: none;\n",
       "  }\n",
       "\n",
       "  .colab-df-spinner {\n",
       "    border: 2px solid var(--fill-color);\n",
       "    border-color: transparent;\n",
       "    border-bottom-color: var(--fill-color);\n",
       "    animation:\n",
       "      spin 1s steps(1) infinite;\n",
       "  }\n",
       "\n",
       "  @keyframes spin {\n",
       "    0% {\n",
       "      border-color: transparent;\n",
       "      border-bottom-color: var(--fill-color);\n",
       "      border-left-color: var(--fill-color);\n",
       "    }\n",
       "    20% {\n",
       "      border-color: transparent;\n",
       "      border-left-color: var(--fill-color);\n",
       "      border-top-color: var(--fill-color);\n",
       "    }\n",
       "    30% {\n",
       "      border-color: transparent;\n",
       "      border-left-color: var(--fill-color);\n",
       "      border-top-color: var(--fill-color);\n",
       "      border-right-color: var(--fill-color);\n",
       "    }\n",
       "    40% {\n",
       "      border-color: transparent;\n",
       "      border-right-color: var(--fill-color);\n",
       "      border-top-color: var(--fill-color);\n",
       "    }\n",
       "    60% {\n",
       "      border-color: transparent;\n",
       "      border-right-color: var(--fill-color);\n",
       "    }\n",
       "    80% {\n",
       "      border-color: transparent;\n",
       "      border-right-color: var(--fill-color);\n",
       "      border-bottom-color: var(--fill-color);\n",
       "    }\n",
       "    90% {\n",
       "      border-color: transparent;\n",
       "      border-bottom-color: var(--fill-color);\n",
       "    }\n",
       "  }\n",
       "</style>\n",
       "\n",
       "  <script>\n",
       "    async function quickchart(key) {\n",
       "      const quickchartButtonEl =\n",
       "        document.querySelector('#' + key + ' button');\n",
       "      quickchartButtonEl.disabled = true;  // To prevent multiple clicks.\n",
       "      quickchartButtonEl.classList.add('colab-df-spinner');\n",
       "      try {\n",
       "        const charts = await google.colab.kernel.invokeFunction(\n",
       "            'suggestCharts', [key], {});\n",
       "      } catch (error) {\n",
       "        console.error('Error during call to suggestCharts:', error);\n",
       "      }\n",
       "      quickchartButtonEl.classList.remove('colab-df-spinner');\n",
       "      quickchartButtonEl.classList.add('colab-df-quickchart-complete');\n",
       "    }\n",
       "    (() => {\n",
       "      let quickchartButtonEl =\n",
       "        document.querySelector('#df-df006b60-8b1c-46b3-9611-899031f095e0 button');\n",
       "      quickchartButtonEl.style.display =\n",
       "        google.colab.kernel.accessAllowed ? 'block' : 'none';\n",
       "    })();\n",
       "  </script>\n",
       "</div>\n",
       "    </div>\n",
       "  </div>\n"
      ],
      "text/plain": [
       "      index           ID                                               tags  \\\n",
       "2681   2681  NCT02099240                              32:45:chronic_disease   \n",
       "2993   2993  NCT02309580                                   29:60:treatment,   \n",
       "5512   5512  NCT03176979  ,23:31:treatment,33:40:treatment,45:62:treatme...   \n",
       "6313   6313  NCT02419495  1:13:treatment,18:31:treatment,45:72:treatment...   \n",
       "1191   1191  NCT01884740                               ,,,144:153:treatment   \n",
       "\n",
       "                                                   text  \n",
       "2681       pathology report indicative of osteomyelitis  \n",
       "2993  patients who have undergone autologous stem ce...  \n",
       "5512  women with history of surgical, medical, or ra...  \n",
       "6313  chemotherapy, or immunotherapy or any other sy...  \n",
       "1191  patients of reproductive age must agree to use...  "
      ]
     },
     "execution_count": 11,
     "metadata": {},
     "output_type": "execute_result"
    }
   ],
   "source": [
    "dfTestG1.head()"
   ]
  },
  {
   "cell_type": "code",
   "execution_count": 12,
   "metadata": {
    "colab": {
     "base_uri": "https://localhost:8080/",
     "height": 206
    },
    "id": "9Ek1t1EXlm2p",
    "outputId": "62a7ab57-95f2-48e6-a971-c9eace73e3fe"
   },
   "outputs": [
    {
     "data": {
      "text/html": [
       "\n",
       "  <div id=\"df-061d02df-e2be-4355-9e97-87f9c7af371d\" class=\"colab-df-container\">\n",
       "    <div>\n",
       "<style scoped>\n",
       "    .dataframe tbody tr th:only-of-type {\n",
       "        vertical-align: middle;\n",
       "    }\n",
       "\n",
       "    .dataframe tbody tr th {\n",
       "        vertical-align: top;\n",
       "    }\n",
       "\n",
       "    .dataframe thead th {\n",
       "        text-align: right;\n",
       "    }\n",
       "</style>\n",
       "<table border=\"1\" class=\"dataframe\">\n",
       "  <thead>\n",
       "    <tr style=\"text-align: right;\">\n",
       "      <th></th>\n",
       "      <th>index</th>\n",
       "      <th>ID</th>\n",
       "      <th>tags</th>\n",
       "      <th>text</th>\n",
       "    </tr>\n",
       "  </thead>\n",
       "  <tbody>\n",
       "    <tr>\n",
       "      <th>1279</th>\n",
       "      <td>1279</td>\n",
       "      <td>NCT02373644</td>\n",
       "      <td>1:9:chronic_disease</td>\n",
       "      <td>diabetes</td>\n",
       "    </tr>\n",
       "    <tr>\n",
       "      <th>6565</th>\n",
       "      <td>6565</td>\n",
       "      <td>NCT02266719</td>\n",
       "      <td>12:38:chronic_disease,45:67:chronic_disease,69...</td>\n",
       "      <td>history of connective tissue disorder (e.g. va...</td>\n",
       "    </tr>\n",
       "    <tr>\n",
       "      <th>7205</th>\n",
       "      <td>7205</td>\n",
       "      <td>NCT01464034</td>\n",
       "      <td>17:35:treatment,37:44:treatment,59:76:treatmen...</td>\n",
       "      <td>exposure to any prior chemotherapy, steroid us...</td>\n",
       "    </tr>\n",
       "    <tr>\n",
       "      <th>1555</th>\n",
       "      <td>1555</td>\n",
       "      <td>NCT01625234</td>\n",
       "      <td>24:46:chronic_disease</td>\n",
       "      <td>clinically significant cardiovascular disease</td>\n",
       "    </tr>\n",
       "    <tr>\n",
       "      <th>6651</th>\n",
       "      <td>6651</td>\n",
       "      <td>NCT02188745</td>\n",
       "      <td>1:16:treatment,,34:44:cancer,48:72:cancer,</td>\n",
       "      <td>surgical biopsy of ≥1 site(s) of metastatic or...</td>\n",
       "    </tr>\n",
       "  </tbody>\n",
       "</table>\n",
       "</div>\n",
       "    <div class=\"colab-df-buttons\">\n",
       "\n",
       "  <div class=\"colab-df-container\">\n",
       "    <button class=\"colab-df-convert\" onclick=\"convertToInteractive('df-061d02df-e2be-4355-9e97-87f9c7af371d')\"\n",
       "            title=\"Convert this dataframe to an interactive table.\"\n",
       "            style=\"display:none;\">\n",
       "\n",
       "  <svg xmlns=\"http://www.w3.org/2000/svg\" height=\"24px\" viewBox=\"0 -960 960 960\">\n",
       "    <path d=\"M120-120v-720h720v720H120Zm60-500h600v-160H180v160Zm220 220h160v-160H400v160Zm0 220h160v-160H400v160ZM180-400h160v-160H180v160Zm440 0h160v-160H620v160ZM180-180h160v-160H180v160Zm440 0h160v-160H620v160Z\"/>\n",
       "  </svg>\n",
       "    </button>\n",
       "\n",
       "  <style>\n",
       "    .colab-df-container {\n",
       "      display:flex;\n",
       "      gap: 12px;\n",
       "    }\n",
       "\n",
       "    .colab-df-convert {\n",
       "      background-color: #E8F0FE;\n",
       "      border: none;\n",
       "      border-radius: 50%;\n",
       "      cursor: pointer;\n",
       "      display: none;\n",
       "      fill: #1967D2;\n",
       "      height: 32px;\n",
       "      padding: 0 0 0 0;\n",
       "      width: 32px;\n",
       "    }\n",
       "\n",
       "    .colab-df-convert:hover {\n",
       "      background-color: #E2EBFA;\n",
       "      box-shadow: 0px 1px 2px rgba(60, 64, 67, 0.3), 0px 1px 3px 1px rgba(60, 64, 67, 0.15);\n",
       "      fill: #174EA6;\n",
       "    }\n",
       "\n",
       "    .colab-df-buttons div {\n",
       "      margin-bottom: 4px;\n",
       "    }\n",
       "\n",
       "    [theme=dark] .colab-df-convert {\n",
       "      background-color: #3B4455;\n",
       "      fill: #D2E3FC;\n",
       "    }\n",
       "\n",
       "    [theme=dark] .colab-df-convert:hover {\n",
       "      background-color: #434B5C;\n",
       "      box-shadow: 0px 1px 3px 1px rgba(0, 0, 0, 0.15);\n",
       "      filter: drop-shadow(0px 1px 2px rgba(0, 0, 0, 0.3));\n",
       "      fill: #FFFFFF;\n",
       "    }\n",
       "  </style>\n",
       "\n",
       "    <script>\n",
       "      const buttonEl =\n",
       "        document.querySelector('#df-061d02df-e2be-4355-9e97-87f9c7af371d button.colab-df-convert');\n",
       "      buttonEl.style.display =\n",
       "        google.colab.kernel.accessAllowed ? 'block' : 'none';\n",
       "\n",
       "      async function convertToInteractive(key) {\n",
       "        const element = document.querySelector('#df-061d02df-e2be-4355-9e97-87f9c7af371d');\n",
       "        const dataTable =\n",
       "          await google.colab.kernel.invokeFunction('convertToInteractive',\n",
       "                                                    [key], {});\n",
       "        if (!dataTable) return;\n",
       "\n",
       "        const docLinkHtml = 'Like what you see? Visit the ' +\n",
       "          '<a target=\"_blank\" href=https://colab.research.google.com/notebooks/data_table.ipynb>data table notebook</a>'\n",
       "          + ' to learn more about interactive tables.';\n",
       "        element.innerHTML = '';\n",
       "        dataTable['output_type'] = 'display_data';\n",
       "        await google.colab.output.renderOutput(dataTable, element);\n",
       "        const docLink = document.createElement('div');\n",
       "        docLink.innerHTML = docLinkHtml;\n",
       "        element.appendChild(docLink);\n",
       "      }\n",
       "    </script>\n",
       "  </div>\n",
       "\n",
       "\n",
       "<div id=\"df-e2160875-4836-4039-a5a1-6e7a60fb0b3a\">\n",
       "  <button class=\"colab-df-quickchart\" onclick=\"quickchart('df-e2160875-4836-4039-a5a1-6e7a60fb0b3a')\"\n",
       "            title=\"Suggest charts.\"\n",
       "            style=\"display:none;\">\n",
       "\n",
       "<svg xmlns=\"http://www.w3.org/2000/svg\" height=\"24px\"viewBox=\"0 0 24 24\"\n",
       "     width=\"24px\">\n",
       "    <g>\n",
       "        <path d=\"M19 3H5c-1.1 0-2 .9-2 2v14c0 1.1.9 2 2 2h14c1.1 0 2-.9 2-2V5c0-1.1-.9-2-2-2zM9 17H7v-7h2v7zm4 0h-2V7h2v10zm4 0h-2v-4h2v4z\"/>\n",
       "    </g>\n",
       "</svg>\n",
       "  </button>\n",
       "\n",
       "<style>\n",
       "  .colab-df-quickchart {\n",
       "      --bg-color: #E8F0FE;\n",
       "      --fill-color: #1967D2;\n",
       "      --hover-bg-color: #E2EBFA;\n",
       "      --hover-fill-color: #174EA6;\n",
       "      --disabled-fill-color: #AAA;\n",
       "      --disabled-bg-color: #DDD;\n",
       "  }\n",
       "\n",
       "  [theme=dark] .colab-df-quickchart {\n",
       "      --bg-color: #3B4455;\n",
       "      --fill-color: #D2E3FC;\n",
       "      --hover-bg-color: #434B5C;\n",
       "      --hover-fill-color: #FFFFFF;\n",
       "      --disabled-bg-color: #3B4455;\n",
       "      --disabled-fill-color: #666;\n",
       "  }\n",
       "\n",
       "  .colab-df-quickchart {\n",
       "    background-color: var(--bg-color);\n",
       "    border: none;\n",
       "    border-radius: 50%;\n",
       "    cursor: pointer;\n",
       "    display: none;\n",
       "    fill: var(--fill-color);\n",
       "    height: 32px;\n",
       "    padding: 0;\n",
       "    width: 32px;\n",
       "  }\n",
       "\n",
       "  .colab-df-quickchart:hover {\n",
       "    background-color: var(--hover-bg-color);\n",
       "    box-shadow: 0 1px 2px rgba(60, 64, 67, 0.3), 0 1px 3px 1px rgba(60, 64, 67, 0.15);\n",
       "    fill: var(--button-hover-fill-color);\n",
       "  }\n",
       "\n",
       "  .colab-df-quickchart-complete:disabled,\n",
       "  .colab-df-quickchart-complete:disabled:hover {\n",
       "    background-color: var(--disabled-bg-color);\n",
       "    fill: var(--disabled-fill-color);\n",
       "    box-shadow: none;\n",
       "  }\n",
       "\n",
       "  .colab-df-spinner {\n",
       "    border: 2px solid var(--fill-color);\n",
       "    border-color: transparent;\n",
       "    border-bottom-color: var(--fill-color);\n",
       "    animation:\n",
       "      spin 1s steps(1) infinite;\n",
       "  }\n",
       "\n",
       "  @keyframes spin {\n",
       "    0% {\n",
       "      border-color: transparent;\n",
       "      border-bottom-color: var(--fill-color);\n",
       "      border-left-color: var(--fill-color);\n",
       "    }\n",
       "    20% {\n",
       "      border-color: transparent;\n",
       "      border-left-color: var(--fill-color);\n",
       "      border-top-color: var(--fill-color);\n",
       "    }\n",
       "    30% {\n",
       "      border-color: transparent;\n",
       "      border-left-color: var(--fill-color);\n",
       "      border-top-color: var(--fill-color);\n",
       "      border-right-color: var(--fill-color);\n",
       "    }\n",
       "    40% {\n",
       "      border-color: transparent;\n",
       "      border-right-color: var(--fill-color);\n",
       "      border-top-color: var(--fill-color);\n",
       "    }\n",
       "    60% {\n",
       "      border-color: transparent;\n",
       "      border-right-color: var(--fill-color);\n",
       "    }\n",
       "    80% {\n",
       "      border-color: transparent;\n",
       "      border-right-color: var(--fill-color);\n",
       "      border-bottom-color: var(--fill-color);\n",
       "    }\n",
       "    90% {\n",
       "      border-color: transparent;\n",
       "      border-bottom-color: var(--fill-color);\n",
       "    }\n",
       "  }\n",
       "</style>\n",
       "\n",
       "  <script>\n",
       "    async function quickchart(key) {\n",
       "      const quickchartButtonEl =\n",
       "        document.querySelector('#' + key + ' button');\n",
       "      quickchartButtonEl.disabled = true;  // To prevent multiple clicks.\n",
       "      quickchartButtonEl.classList.add('colab-df-spinner');\n",
       "      try {\n",
       "        const charts = await google.colab.kernel.invokeFunction(\n",
       "            'suggestCharts', [key], {});\n",
       "      } catch (error) {\n",
       "        console.error('Error during call to suggestCharts:', error);\n",
       "      }\n",
       "      quickchartButtonEl.classList.remove('colab-df-spinner');\n",
       "      quickchartButtonEl.classList.add('colab-df-quickchart-complete');\n",
       "    }\n",
       "    (() => {\n",
       "      let quickchartButtonEl =\n",
       "        document.querySelector('#df-e2160875-4836-4039-a5a1-6e7a60fb0b3a button');\n",
       "      quickchartButtonEl.style.display =\n",
       "        google.colab.kernel.accessAllowed ? 'block' : 'none';\n",
       "    })();\n",
       "  </script>\n",
       "</div>\n",
       "    </div>\n",
       "  </div>\n"
      ],
      "text/plain": [
       "      index           ID                                               tags  \\\n",
       "1279   1279  NCT02373644                                1:9:chronic_disease   \n",
       "6565   6565  NCT02266719  12:38:chronic_disease,45:67:chronic_disease,69...   \n",
       "7205   7205  NCT01464034  17:35:treatment,37:44:treatment,59:76:treatmen...   \n",
       "1555   1555  NCT01625234                              24:46:chronic_disease   \n",
       "6651   6651  NCT02188745         1:16:treatment,,34:44:cancer,48:72:cancer,   \n",
       "\n",
       "                                                   text  \n",
       "1279                                           diabetes  \n",
       "6565  history of connective tissue disorder (e.g. va...  \n",
       "7205  exposure to any prior chemotherapy, steroid us...  \n",
       "1555      clinically significant cardiovascular disease  \n",
       "6651  surgical biopsy of ≥1 site(s) of metastatic or...  "
      ]
     },
     "execution_count": 12,
     "metadata": {},
     "output_type": "execute_result"
    }
   ],
   "source": [
    "dfValG1.head()"
   ]
  },
  {
   "cell_type": "markdown",
   "metadata": {
    "id": "r1C49P8l9Wsg"
   },
   "source": [
    "Creating a dictionary of tags to get the label encoding. Also creating a reverse dictionary to get labels from actual tags"
   ]
  },
  {
   "cell_type": "code",
   "execution_count": null,
   "metadata": {
    "id": "YF9lJ9Gl9DTS"
   },
   "outputs": [],
   "source": []
  },
  {
   "cell_type": "code",
   "execution_count": 13,
   "metadata": {
    "colab": {
     "base_uri": "https://localhost:8080/"
    },
    "id": "u0F6ZbqgMtcE",
    "outputId": "ac24acdb-3ac6-4a31-eb63-b1e083b05734"
   },
   "outputs": [
    {
     "data": {
      "text/plain": [
       "{0: 'cancer',\n",
       " 1: 'chronic_disease',\n",
       " 2: 'treatment',\n",
       " 3: 'allergy_name',\n",
       " 4: 'other'}"
      ]
     },
     "execution_count": 13,
     "metadata": {},
     "output_type": "execute_result"
    }
   ],
   "source": [
    "uniqueLabels =  ['cancer','chronic_disease','treatment', 'allergy_name', 'other']\n",
    "labelDict = {i: l for i, l in enumerate(uniqueLabels)}\n",
    "reverseLabelDict = {v: k for k, v in labelDict.items()}\n",
    "labelDict"
   ]
  },
  {
   "cell_type": "markdown",
   "metadata": {
    "id": "Xm7mqWwN9ZKH"
   },
   "source": [
    "We currently have the tags in index form, for eg: l:r:tag, where l, r are indices in text. Hence we need to process this to a standard format in order to feed this to our neural network model"
   ]
  },
  {
   "cell_type": "markdown",
   "metadata": {
    "id": "FKuAKcRt-qMz"
   },
   "source": [
    "As a first step in preprocessing, we convert the tags, for each entry in the data, to a list of tuples with 2nd element as tag and first element as the corresponding word(s) in text. eg: [(\"pneumonia\",\"chronic_disease\"),(\"skin_allergy\",\"allergy_name\"),....]"
   ]
  },
  {
   "cell_type": "markdown",
   "metadata": {
    "id": "40cve5VPBo22"
   },
   "source": [
    "In the next step, we tokenize the text into tokens/subwords using the tokenizer extracted at the start from biobert Model. Tokens are integers, we convert them to string tokens using tokenizer.convert_ids_to_tokens function. Now we iterate over tokens, for each entry in the data, and create words out of them by merging the tokens of a single word. This is done based on the logic that sequential tokens of a continuous word start with \"##\" when BERT tokenizer is used."
   ]
  },
  {
   "cell_type": "markdown",
   "metadata": {
    "id": "KVCXj7zJCru6"
   },
   "source": [
    "Now we have the list of words and tags for each entry. So we iterate over these and a create a list of word labels which is dictionary of labels corresponding to each word id (index of word in the text). If word has no label in the tags list, then we assign it as \"other\". Now for each token, we can access the word id, i.e. we know what index word the token belongs to, hence we can create a list of labels for the tokens of text for each entry. Hence, the tokens and the label list of tokens forms our main input"
   ]
  },
  {
   "cell_type": "code",
   "execution_count": null,
   "metadata": {
    "id": "J3K4VykSBZFu"
   },
   "outputs": [],
   "source": []
  },
  {
   "cell_type": "code",
   "execution_count": 14,
   "metadata": {
    "id": "kg-AIAYJMorJ"
   },
   "outputs": [],
   "source": [
    "def getLabelIds(wordIds,labelMap):\n",
    "    labelIds=[]\n",
    "    for x in wordIds:\n",
    "        if(x is None):labelIds.append(-100)\n",
    "        else:labelIds.append(reverseLabelDict.get(labelMap.get(x,'other')))\n",
    "    return labelIds\n",
    "def extractTag(tag,text):\n",
    "    c=tag.find(':')\n",
    "    l = int(tag[0:c])-1\n",
    "    c1=tag.find(':',c+1)\n",
    "    r=int(tag[c+1:c1])-1\n",
    "    label=tag[c1+1:]\n",
    "    # if not isinstance(text, str):print(text)\n",
    "    return text[l:r],label,l,r-1\n",
    "def preprocess(df):\n",
    "    df['tags'] = df['tags'].apply(lambda x: x.replace(\" \",\"\"))\n",
    "    tags=[]\n",
    "    for i,row in df.iterrows():\n",
    "        # print(row)\n",
    "        tagRow = []\n",
    "        text = row['text']\n",
    "        prev=-1\n",
    "        for tag in row['tags'].split(','):\n",
    "            if(len(tag)==0):\n",
    "                continue\n",
    "            else:\n",
    "                a=extractTag(tag,text)\n",
    "                if(prev<a[2] and prev<a[3]):\n",
    "                    tagRow.append((a[0],a[1]))\n",
    "                prev=a[3]\n",
    "        tags.append(np.array(tagRow))\n",
    "    text = df[\"text\"].values.tolist()\n",
    "    tokens= [tokenizer(text, padding = \"max_length\", truncation = True, return_tensors = \"pt\",max_length=512) for text in text]\n",
    "    decoded = [tokenizer.convert_ids_to_tokens(b['input_ids'][0]) for b in tokens]\n",
    "    wordsInText = []\n",
    "    for d in decoded:\n",
    "        words = []\n",
    "        current_word = \"\"\n",
    "        for token in d:\n",
    "            if token in ['[PAD]','[CLS]','[SEP]']: continue\n",
    "            if token.startswith(\"##\"):  # Subword continuation\n",
    "                current_word += token[2:]\n",
    "            else:  # New word\n",
    "                if current_word:\n",
    "                    words.append(current_word)\n",
    "                current_word = token\n",
    "\n",
    "        # Add the last word\n",
    "        if current_word:\n",
    "            words.append(current_word)\n",
    "        wordsInText.append(words)\n",
    "    wordLabels =[]\n",
    "    for l,m in zip(wordsInText,tags):\n",
    "    # l,m=wordsInText[0],tags[0]\n",
    "        wordIndex=0\n",
    "        d={}\n",
    "        for x in m:\n",
    "            x[0]=x[0].replace(\" \",\"\")\n",
    "            index=0\n",
    "            while(wordIndex<len(l) and index<len(x[0])):\n",
    "                if(x[0][index:].startswith(l[wordIndex])):\n",
    "                    # print(l[wordIndex])\n",
    "                    index+=len(l[wordIndex])\n",
    "                    d[wordIndex] = x[1]\n",
    "                    wordIndex+=1\n",
    "                else:\n",
    "                    # print(\" trye\")\n",
    "                    d[wordIndex]='other'\n",
    "                    # if(len(wordLabelsTrain)==0):print(wordIndex,l[wordIndex],d)\n",
    "                    wordIndex+=1\n",
    "        wordLabels.append(d)\n",
    "    labels = [getLabelIds(token.word_ids(),labelMap) for token,labelMap in zip(tokens,wordLabels)]\n",
    "    return tokens,labels,wordsInText,tags,wordLabels"
   ]
  },
  {
   "cell_type": "markdown",
   "metadata": {
    "id": "P1KUwc1ZELAs"
   },
   "source": [
    "Preprocessing datasets using the methodology described above"
   ]
  },
  {
   "cell_type": "code",
   "execution_count": 15,
   "metadata": {
    "id": "tFh_XD-saUmX"
   },
   "outputs": [],
   "source": [
    "tokensTrainG1,labelsTrainG1,wordsInTextTrainG1,tagsTrainG1,wordLabelsTrainG1 = preprocess(dfTrainG1)\n",
    "tokensTestG1,labelsTestG1,wordsInTextTestG1,tagsTestG1,wordLabelsTestG1 = preprocess(dfTestG1)\n",
    "tokensValG1,labelsValG1,wordsInTextValG1,tagsValG1,wordLabelsValG1 = preprocess(dfValG1)"
   ]
  },
  {
   "cell_type": "code",
   "execution_count": 16,
   "metadata": {
    "id": "8KjwuswSxiPG"
   },
   "outputs": [],
   "source": [
    "tokensTrainG2,labelsTrainG2,wordsInTextTrainG2,tagsTrainG2,wordLabelsTrainG2 = preprocess(dfTrainG2)\n",
    "tokensTestG2,labelsTestG2,wordsInTextTestG2,tagsTestG2,wordLabelsTestG2 = preprocess(dfTestG2)\n",
    "tokensValG2,labelsValG2,wordsInTextValG2,tagsValG2,wordLabelsValG2 = preprocess(dfValG2)"
   ]
  },
  {
   "cell_type": "code",
   "execution_count": 17,
   "metadata": {
    "id": "INMSkdJzxiaC"
   },
   "outputs": [],
   "source": [
    "tokensTrainG3,labelsTrainG3,wordsInTextTrainG3,tagsTrainG3,wordLabelsTrainG3 = preprocess(dfTrainG3)\n",
    "tokensTestG3,labelsTestG3,wordsInTextTestG3,tagsTestG3,wordLabelsTestG3 = preprocess(dfTestG3)\n",
    "tokensValG3,labelsValG3,wordsInTextValG3,tagsValG3,wordLabelsValG3 = preprocess(dfValG3)"
   ]
  },
  {
   "cell_type": "code",
   "execution_count": 18,
   "metadata": {
    "id": "uhZA5OOz2ylZ"
   },
   "outputs": [],
   "source": [
    "tokensTrainG4,labelsTrainG4,wordsInTextTrainG4,tagsTrainG4,wordLabelsTrainG4 = preprocess(dfTrainG4)\n",
    "tokensTestG4,labelsTestG4,wordsInTextTestG4,tagsTestG4,wordLabelsTestG4 = preprocess(dfTestG4)\n",
    "tokensValG4,labelsValG4,wordsInTextValG4,tagsValG4,wordLabelsValG4 = preprocess(dfValG4)"
   ]
  },
  {
   "cell_type": "code",
   "execution_count": 19,
   "metadata": {
    "colab": {
     "base_uri": "https://localhost:8080/"
    },
    "id": "qKOICT_lBIqe",
    "outputId": "c2d5b475-545b-4af1-8f1b-3f5fd0c4b418"
   },
   "outputs": [
    {
     "data": {
      "text/plain": [
       "(5021, 628, 628)"
      ]
     },
     "execution_count": 19,
     "metadata": {},
     "output_type": "execute_result"
    }
   ],
   "source": [
    "len(tagsTrainG3),len(tagsValG3),len(tagsTestG3)"
   ]
  },
  {
   "cell_type": "code",
   "execution_count": 20,
   "metadata": {
    "id": "tf-gnys5w3qB"
   },
   "outputs": [],
   "source": [
    "# sum([len(x.values())-list(x.values()).count(\"others\") for x in wordLabelsTrainG1])"
   ]
  },
  {
   "cell_type": "code",
   "execution_count": 20,
   "metadata": {
    "id": "ofm3HAZR8QJ0"
   },
   "outputs": [],
   "source": []
  },
  {
   "cell_type": "markdown",
   "metadata": {
    "id": "6jl6aRXcERwp"
   },
   "source": [
    "Finding the count of tags for each dataset"
   ]
  },
  {
   "cell_type": "code",
   "execution_count": 21,
   "metadata": {
    "colab": {
     "base_uri": "https://localhost:8080/"
    },
    "id": "E5zJIgJ_YCSC",
    "outputId": "84848586-8103-46fa-eda5-c1d294a0aa78"
   },
   "outputs": [
    {
     "data": {
      "text/plain": [
       "Counter({'chronic_disease': 4430,\n",
       "         'cancer': 1454,\n",
       "         'treatment': 5130,\n",
       "         'allergy_name': 258})"
      ]
     },
     "execution_count": 21,
     "metadata": {},
     "output_type": "execute_result"
    }
   ],
   "source": [
    "tagCountG1 = [[val[1] for val in tag] for tag in tagsTrainG1]\n",
    "tagCountG1 = Counter(list(itertools.chain.from_iterable(tagCountG1)))\n",
    "tagCountG1"
   ]
  },
  {
   "cell_type": "markdown",
   "metadata": {
    "id": "kwH2I7ECEV8T"
   },
   "source": [
    "Finding Distrubution of tag for each dataset"
   ]
  },
  {
   "cell_type": "code",
   "execution_count": 22,
   "metadata": {
    "colab": {
     "base_uri": "https://localhost:8080/"
    },
    "id": "nMkYSIwQad_J",
    "outputId": "9a8c64bc-af1d-4de4-aeaf-7dd4a3c7f785"
   },
   "outputs": [
    {
     "data": {
      "text/plain": [
       "[39.300922640170334, 12.899219304471258, 45.51100070972321, 2.288857345635202]"
      ]
     },
     "execution_count": 22,
     "metadata": {},
     "output_type": "execute_result"
    }
   ],
   "source": [
    "[x/sum(tagCountG1.values())*100 for x in tagCountG1.values()]"
   ]
  },
  {
   "cell_type": "code",
   "execution_count": 23,
   "metadata": {
    "colab": {
     "base_uri": "https://localhost:8080/"
    },
    "id": "I2Dk5IBY31ZY",
    "outputId": "00f07fa3-ed0b-4f17-f2a7-9c6d5772c74c"
   },
   "outputs": [
    {
     "data": {
      "text/plain": [
       "Counter({'allergy_name': 259,\n",
       "         'cancer': 1471,\n",
       "         'chronic_disease': 4206,\n",
       "         'treatment': 4370})"
      ]
     },
     "execution_count": 23,
     "metadata": {},
     "output_type": "execute_result"
    }
   ],
   "source": [
    "tagCountG2 = [[val[1] for val in tag] for tag in tagsTrainG2]\n",
    "tagCountG2 = Counter(list(itertools.chain.from_iterable(tagCountG2)))\n",
    "tagCountG2"
   ]
  },
  {
   "cell_type": "code",
   "execution_count": 24,
   "metadata": {
    "colab": {
     "base_uri": "https://localhost:8080/"
    },
    "id": "aXddTOHPieb0",
    "outputId": "f3e721a6-2783-448a-8f2c-c0039dca0a28"
   },
   "outputs": [
    {
     "data": {
      "text/plain": [
       "[2.51309916553464, 14.273238889967011, 40.81117795458956, 42.40248398990879]"
      ]
     },
     "execution_count": 24,
     "metadata": {},
     "output_type": "execute_result"
    }
   ],
   "source": [
    "[x/sum(tagCountG2.values())*100 for x in tagCountG2.values()]"
   ]
  },
  {
   "cell_type": "code",
   "execution_count": 24,
   "metadata": {
    "id": "HAiyy0833GP6"
   },
   "outputs": [],
   "source": []
  },
  {
   "cell_type": "code",
   "execution_count": 25,
   "metadata": {
    "colab": {
     "base_uri": "https://localhost:8080/"
    },
    "id": "W2XOWrKk-QtI",
    "outputId": "5cea6346-8dba-439d-8c69-9e4efb608dae"
   },
   "outputs": [
    {
     "data": {
      "text/plain": [
       "Counter({'chronic_disease': 4023,\n",
       "         'treatment': 4627,\n",
       "         'cancer': 1327,\n",
       "         'allergy_name': 325})"
      ]
     },
     "execution_count": 25,
     "metadata": {},
     "output_type": "execute_result"
    }
   ],
   "source": [
    "\n",
    "tagCountG3 = [[val[1] for val in tag] for tag in tagsTrainG3]\n",
    "tagCountG3 = Counter(list(itertools.chain.from_iterable(tagCountG3)))\n",
    "tagCountG3"
   ]
  },
  {
   "cell_type": "code",
   "execution_count": 26,
   "metadata": {
    "colab": {
     "base_uri": "https://localhost:8080/"
    },
    "id": "RQXFjYsv5b0V",
    "outputId": "8e2bcba6-5f79-4e89-8135-cda224a7a106"
   },
   "outputs": [
    {
     "data": {
      "text/plain": [
       "[39.050669772859635, 44.91360900795962, 12.880993981751116, 3.1547272374296256]"
      ]
     },
     "execution_count": 26,
     "metadata": {},
     "output_type": "execute_result"
    }
   ],
   "source": [
    "[x/sum(tagCountG3.values())*100 for x in tagCountG3.values()]"
   ]
  },
  {
   "cell_type": "code",
   "execution_count": 27,
   "metadata": {
    "colab": {
     "base_uri": "https://localhost:8080/"
    },
    "id": "h6L4ylfCnqML",
    "outputId": "79c80b21-2e97-49cc-cf14-978d54f755a6"
   },
   "outputs": [
    {
     "data": {
      "text/plain": [
       "Counter({'chronic_disease': 4430,\n",
       "         'cancer': 1454,\n",
       "         'treatment': 5130,\n",
       "         'allergy_name': 258})"
      ]
     },
     "execution_count": 27,
     "metadata": {},
     "output_type": "execute_result"
    }
   ],
   "source": [
    "\n",
    "tagCountG4 = [[val[1] for val in tag] for tag in tagsTrainG4]\n",
    "tagCountG4 = Counter(list(itertools.chain.from_iterable(tagCountG4)))\n",
    "tagCountG4"
   ]
  },
  {
   "cell_type": "code",
   "execution_count": 28,
   "metadata": {
    "colab": {
     "base_uri": "https://localhost:8080/"
    },
    "id": "XsG8l0um3IFA",
    "outputId": "ccf924f6-a9e8-4717-f0e7-d12fb9fa2de0"
   },
   "outputs": [
    {
     "data": {
      "text/plain": [
       "[39.300922640170334, 12.899219304471258, 45.51100070972321, 2.288857345635202]"
      ]
     },
     "execution_count": 28,
     "metadata": {},
     "output_type": "execute_result"
    }
   ],
   "source": [
    "[x/sum(tagCountG4.values())*100 for x in tagCountG4.values()]"
   ]
  },
  {
   "cell_type": "code",
   "execution_count": 29,
   "metadata": {
    "id": "eD6GMvHLnqPA"
   },
   "outputs": [],
   "source": [
    "# text = \"human monster Hello I am a humanmonster\"\n",
    "# a=tokenizer(text, padding = \"max_length\", truncation = True, return_tensors = \"pt\",max_length=512)\n",
    "# tokenizer.convert_ids_to_tokens(a['input_ids'][0])"
   ]
  },
  {
   "cell_type": "code",
   "execution_count": 29,
   "metadata": {
    "id": "gf0WF1p6nqSa"
   },
   "outputs": [],
   "source": []
  },
  {
   "cell_type": "markdown",
   "metadata": {
    "id": "-hD3zUoBEcnV"
   },
   "source": [
    "While extending datasets, we ensure that disturbution of tags remaing same in the subset of 100 entries that we are appending. We also ensure, it has max tags to create a good training subset\n"
   ]
  },
  {
   "cell_type": "code",
   "execution_count": 30,
   "metadata": {
    "colab": {
     "base_uri": "https://localhost:8080/"
    },
    "id": "J-u_I66y86Wa",
    "outputId": "34ef67f3-34b2-43c5-89d4-04b58daf56bb"
   },
   "outputs": [
    {
     "name": "stdout",
     "output_type": "stream",
     "text": [
      "Length of train G4 intially: 5884\n",
      "Length of train G4 final: 6184\n"
     ]
    }
   ],
   "source": [
    "#Keeping same distribution as G1/G2/G3\n",
    "g1SubsetIndicesAllergy=np.argsort([-x.count(\"allergy_name\") for x in [[val[1] for val in tag] for tag in tagsTrainG1]])[:3]\n",
    "g2SubsetIndicesAllergy=np.argsort([-x.count(\"allergy_name\") for x in [[val[1] for val in tag] for tag in tagsTrainG2]])[:3]\n",
    "g3SubsetIndicesAllergy=np.argsort([-x.count(\"allergy_name\") for x in [[val[1] for val in tag] for tag in tagsTrainG3]])[:3]\n",
    "\n",
    "\n",
    "g1SubsetIndicesTreatment=np.argsort([-x.count(\"treatment\") for x in [[val[1] for val in tag] for tag in tagsTrainG1]])[:45]\n",
    "g2SubsetIndicesTreatment=np.argsort([-x.count(\"treatment\") for x in [[val[1] for val in tag] for tag in tagsTrainG2]])[:42]\n",
    "g3SubsetIndicesTreatment=np.argsort([-x.count(\"treatment\") for x in [[val[1] for val in tag] for tag in tagsTrainG3]])[:45]\n",
    "\n",
    "\n",
    "g1SubsetIndicesCancer=np.argsort([-x.count(\"cancer\") for x in [[val[1] for val in tag] for tag in tagsTrainG1]])[:13]\n",
    "g2SubsetIndicesCancer=np.argsort([-x.count(\"cancer\") for x in [[val[1] for val in tag] for tag in tagsTrainG2]])[:14]\n",
    "g3SubsetIndicesCancer=np.argsort([-x.count(\"cancer\") for x in [[val[1] for val in tag] for tag in tagsTrainG3]])[:13]\n",
    "\n",
    "\n",
    "g1SubsetIndicesChronicDisease=np.argsort([-x.count(\"chronic_disease\") for x in [[val[1] for val in tag] for tag in tagsTrainG1]])[:39]\n",
    "g2SubsetIndicesChronicDisease=np.argsort([-x.count(\"chronic_disease\") for x in [[val[1] for val in tag] for tag in tagsTrainG2]])[:41]\n",
    "g3SubsetIndicesChronicDisease=np.argsort([-x.count(\"chronic_disease\") for x in [[val[1] for val in tag] for tag in tagsTrainG3]])[:39]\n",
    "\n",
    "# print(\"Length of train G2 intially: \"+str(len(tokensTrainG2)))\n",
    "# tokensTrainG2.extend([tokensTrainG1[x] for x in g1SubsetIndicesAllergy])\n",
    "# labelsTrainG2.extend([labelsTrainG1[x] for x in g1SubsetIndicesAllergy])\n",
    "\n",
    "# tokensTrainG2.extend([tokensTrainG1[x] for x in g1SubsetIndicesTreatment])\n",
    "# labelsTrainG2.extend([labelsTrainG1[x] for x in g1SubsetIndicesTreatment])\n",
    "\n",
    "# tokensTrainG2.extend([tokensTrainG1[x] for x in g1SubsetIndicesCancer])\n",
    "# labelsTrainG2.extend([labelsTrainG1[x] for x in g1SubsetIndicesCancer])\n",
    "\n",
    "# tokensTrainG2.extend([tokensTrainG1[x] for x in g1SubsetIndicesChronicDisease])\n",
    "# labelsTrainG2.extend([labelsTrainG1[x] for x in g1SubsetIndicesChronicDisease])\n",
    "# print(\"Length of train G2 final: \"+str(len(tokensTrainG2)))\n",
    "\n",
    "# print(\"Length of train G3 intially: \"+str(len(tokensTrainG3)))\n",
    "# tokensTrainG3.extend([tokensTrainG1[x] for x in g1SubsetIndicesAllergy])\n",
    "# tokensTrainG3.extend([tokensTrainG2[x] for x in g2SubsetIndicesAllergy])\n",
    "# labelsTrainG3.extend([labelsTrainG1[x] for x in g1SubsetIndicesAllergy])\n",
    "# labelsTrainG3.extend([labelsTrainG2[x] for x in g2SubsetIndicesAllergy])\n",
    "\n",
    "# tokensTrainG3.extend([tokensTrainG1[x] for x in g1SubsetIndicesTreatment])\n",
    "# tokensTrainG3.extend([tokensTrainG2[x] for x in g2SubsetIndicesTreatment])\n",
    "# labelsTrainG3.extend([labelsTrainG1[x] for x in g1SubsetIndicesTreatment])\n",
    "# labelsTrainG3.extend([labelsTrainG2[x] for x in g2SubsetIndicesTreatment])\n",
    "\n",
    "# tokensTrainG3.extend([tokensTrainG1[x] for x in g1SubsetIndicesCancer])\n",
    "# tokensTrainG3.extend([tokensTrainG2[x] for x in g2SubsetIndicesCancer])\n",
    "# labelsTrainG3.extend([labelsTrainG1[x] for x in g1SubsetIndicesCancer])\n",
    "# labelsTrainG3.extend([labelsTrainG2[x] for x in g2SubsetIndicesCancer])\n",
    "\n",
    "# tokensTrainG3.extend([tokensTrainG1[x] for x in g1SubsetIndicesChronicDisease])\n",
    "# tokensTrainG3.extend([tokensTrainG2[x] for x in g2SubsetIndicesChronicDisease])\n",
    "# labelsTrainG3.extend([labelsTrainG1[x] for x in g1SubsetIndicesChronicDisease])\n",
    "# labelsTrainG3.extend([labelsTrainG2[x] for x in g2SubsetIndicesChronicDisease])\n",
    "# print(\"Length of train G3 final: \"+str(len(tokensTrainG3)))\n",
    "\n",
    "\n",
    "print(\"Length of train G4 intially: \"+str(len(tokensTrainG4)))\n",
    "tokensTrainG4.extend([tokensTrainG1[x] for x in g1SubsetIndicesAllergy])\n",
    "tokensTrainG4.extend([tokensTrainG2[x] for x in g2SubsetIndicesAllergy])\n",
    "tokensTrainG4.extend([tokensTrainG3[x] for x in g3SubsetIndicesAllergy])\n",
    "\n",
    "labelsTrainG4.extend([labelsTrainG1[x] for x in g1SubsetIndicesAllergy])\n",
    "labelsTrainG4.extend([labelsTrainG2[x] for x in g2SubsetIndicesAllergy])\n",
    "labelsTrainG4.extend([labelsTrainG3[x] for x in g3SubsetIndicesAllergy])\n",
    "\n",
    "tokensTrainG4.extend([tokensTrainG1[x] for x in g1SubsetIndicesTreatment])\n",
    "tokensTrainG4.extend([tokensTrainG2[x] for x in g2SubsetIndicesTreatment])\n",
    "tokensTrainG4.extend([tokensTrainG3[x] for x in g3SubsetIndicesTreatment])\n",
    "\n",
    "labelsTrainG4.extend([labelsTrainG1[x] for x in g1SubsetIndicesTreatment])\n",
    "labelsTrainG4.extend([labelsTrainG2[x] for x in g2SubsetIndicesTreatment])\n",
    "labelsTrainG4.extend([labelsTrainG3[x] for x in g3SubsetIndicesTreatment])\n",
    "\n",
    "\n",
    "tokensTrainG4.extend([tokensTrainG1[x] for x in g1SubsetIndicesCancer])\n",
    "tokensTrainG4.extend([tokensTrainG2[x] for x in g2SubsetIndicesCancer])\n",
    "tokensTrainG4.extend([tokensTrainG3[x] for x in g3SubsetIndicesCancer])\n",
    "\n",
    "\n",
    "labelsTrainG4.extend([labelsTrainG1[x] for x in g1SubsetIndicesCancer])\n",
    "labelsTrainG4.extend([labelsTrainG2[x] for x in g2SubsetIndicesCancer])\n",
    "labelsTrainG4.extend([labelsTrainG3[x] for x in g3SubsetIndicesCancer])\n",
    "\n",
    "tokensTrainG4.extend([tokensTrainG1[x] for x in g1SubsetIndicesChronicDisease])\n",
    "tokensTrainG4.extend([tokensTrainG2[x] for x in g2SubsetIndicesChronicDisease])\n",
    "tokensTrainG4.extend([tokensTrainG3[x] for x in g3SubsetIndicesChronicDisease])\n",
    "\n",
    "labelsTrainG4.extend([labelsTrainG1[x] for x in g1SubsetIndicesChronicDisease])\n",
    "labelsTrainG4.extend([labelsTrainG2[x] for x in g2SubsetIndicesChronicDisease])\n",
    "labelsTrainG4.extend([labelsTrainG3[x] for x in g3SubsetIndicesChronicDisease])\n",
    "print(\"Length of train G4 final: \"+str(len(tokensTrainG4)))\n",
    "\n"
   ]
  },
  {
   "cell_type": "code",
   "execution_count": 30,
   "metadata": {
    "id": "N_LSRqy5jbUy"
   },
   "outputs": [],
   "source": []
  },
  {
   "cell_type": "code",
   "execution_count": 30,
   "metadata": {
    "id": "3y7i--6p4uf1"
   },
   "outputs": [],
   "source": []
  },
  {
   "cell_type": "code",
   "execution_count": 30,
   "metadata": {
    "id": "OJ_j-6rJ6sz9"
   },
   "outputs": [],
   "source": []
  },
  {
   "cell_type": "code",
   "execution_count": 30,
   "metadata": {
    "id": "yzabGArb5PE5"
   },
   "outputs": [],
   "source": []
  },
  {
   "cell_type": "code",
   "execution_count": 30,
   "metadata": {
    "id": "Bvl-Z9rNocua"
   },
   "outputs": [],
   "source": []
  },
  {
   "cell_type": "code",
   "execution_count": 31,
   "metadata": {
    "colab": {
     "base_uri": "https://localhost:8080/"
    },
    "id": "5AexHV6gG6Zn",
    "outputId": "05b3080e-efc0-490b-a4bd-cf74cdac8080"
   },
   "outputs": [
    {
     "data": {
      "text/plain": [
       "({0: 'other',\n",
       "  1: 'other',\n",
       "  2: 'other',\n",
       "  3: 'other',\n",
       "  4: 'other',\n",
       "  5: 'other',\n",
       "  6: 'other',\n",
       "  7: 'other',\n",
       "  8: 'other',\n",
       "  9: 'other',\n",
       "  10: 'other',\n",
       "  11: 'other',\n",
       "  12: 'other',\n",
       "  13: 'other',\n",
       "  14: 'other',\n",
       "  15: 'other',\n",
       "  16: 'other',\n",
       "  17: 'other',\n",
       "  18: 'other',\n",
       "  19: 'other',\n",
       "  20: 'cancer'},\n",
       " ['for',\n",
       "  'part',\n",
       "  '2',\n",
       "  'and',\n",
       "  'part',\n",
       "  '3',\n",
       "  'of',\n",
       "  'the',\n",
       "  'study',\n",
       "  ',',\n",
       "  'participants',\n",
       "  'must',\n",
       "  'have',\n",
       "  'histopathologically',\n",
       "  'and',\n",
       "  'clinically',\n",
       "  'confirmed',\n",
       "  'diagnosis',\n",
       "  'of',\n",
       "  'relapsed',\n",
       "  'dlbcl'],\n",
       " array([['dlbcl', 'cancer']], dtype='<U6'))"
      ]
     },
     "execution_count": 31,
     "metadata": {},
     "output_type": "execute_result"
    }
   ],
   "source": [
    "i=1211\n",
    "wordLabelsTrainG1[i],wordsInTextTrainG1[i],tagsTrainG1[i]"
   ]
  },
  {
   "cell_type": "markdown",
   "metadata": {
    "id": "AyBtXTTXE0tC"
   },
   "source": [
    "Defining Dataset Class"
   ]
  },
  {
   "cell_type": "code",
   "execution_count": 2,
   "metadata": {
    "id": "4TgbwkmjIXW3"
   },
   "outputs": [],
   "source": [
    "class datasetNer(torch.utils.data.Dataset):\n",
    "     def __init__(self, tokens,labels):\n",
    "        self.tokens=tokens\n",
    "        self.labels=labels\n",
    "     def __len__(self):\n",
    "        return len(self.tokens)\n",
    "     def __getitem__(self, idx):\n",
    "        token,label = self.tokens[idx],self.labels[idx]\n",
    "        return token,label"
   ]
  },
  {
   "cell_type": "markdown",
   "metadata": {
    "id": "MtoF6p3BE3OK"
   },
   "source": [
    "Defining the model Class. We concatenate the last 2 layers of bio bert model and use it as input an ANN network of 4 layers"
   ]
  },
  {
   "cell_type": "code",
   "execution_count": 33,
   "metadata": {
    "id": "Vi7l8vX_KvcE"
   },
   "outputs": [],
   "source": [
    "\n",
    "class nerModel(nn.Module):\n",
    "\n",
    "  def __init__(self, numClasses):\n",
    "    super(nerModel,self).__init__()\n",
    "    self.num_labels = numClasses\n",
    "    self.biobert = AutoModel.from_pretrained(modelName,output_hidden_states=True)\n",
    "    self.fc1=nn.Linear(self.biobert.config.hidden_size*2,512)\n",
    "    self.bn1 = nn.BatchNorm1d(512)\n",
    "    self.fc2=nn.Linear(512,256)\n",
    "    self.bn2 = nn.BatchNorm1d(512)\n",
    "    self.fc3=nn.Linear(256,128)\n",
    "    self.bn3 = nn.BatchNorm1d(512)\n",
    "    self.dropout1=nn.Dropout(.1)\n",
    "    self.dropout2=nn.Dropout(.1)\n",
    "    self.gelu1 = nn.GELU()\n",
    "    self.gelu3 = nn.GELU()\n",
    "    self.gelu2 = nn.GELU()\n",
    "    self.fc4=nn.Linear(128,numClasses)\n",
    "  def forward(self, input_ids, attention_mask, labels = None):\n",
    "        output=self.biobert(input_ids=input_ids, attention_mask=attention_mask,output_hidden_states=True)\n",
    "        # print(output[0])\n",
    "        # print(output.shape)\n",
    "        logits = self.fc4(self.bn3(self.gelu3(self.fc3(self.dropout2(self.bn2(self.gelu2(self.fc2(\n",
    "        self.dropout1(self.bn1(self.gelu1(self.fc1(torch.concat((output.hidden_states[-1],output.hidden_states[-2]),axis=2)))))))))))))\n",
    "        if labels is not None:\n",
    "\n",
    "            loss_fct = nn.CrossEntropyLoss(ignore_index=-100)\n",
    "            # Only keep active parts of the loss\n",
    "            if attention_mask is not None:\n",
    "                active_loss = attention_mask.view(-1) == 1\n",
    "                active_logits = logits.view(-1, self.num_labels)\n",
    "                active_labels = torch.where(\n",
    "                    active_loss, labels.view(-1), torch.tensor(loss_fct.ignore_index).type_as(labels)\n",
    "                )\n",
    "                loss = loss_fct(active_logits, active_labels)\n",
    "            else:\n",
    "                loss = loss_fct(logits.view(-1, self.num_labels), labels.view(-1))\n",
    "            return loss,logits\n",
    "        return logits\n"
   ]
  },
  {
   "cell_type": "code",
   "execution_count": 34,
   "metadata": {
    "id": "P92RYK1QgZHz"
   },
   "outputs": [],
   "source": [
    "def freeze_model(model,num_layers = 1):\n",
    "    # print(len(list(model.parameters())))\n",
    "    for id , params in enumerate(model.parameters()):\n",
    "        # print(params.requires_grad)\n",
    "        if id >= len(list(model.parameters())) - num_layers:\n",
    "            params.requires_grad = True\n",
    "        else:\n",
    "            params.requires_grad = False\n",
    "    return model"
   ]
  },
  {
   "cell_type": "code",
   "execution_count": 35,
   "metadata": {
    "id": "qL3XSDgUal_h"
   },
   "outputs": [],
   "source": [
    "# lab=getLabelIds(tokensTrain[0].word_ids(),wordLabelsTrain[0])\n",
    "# device = torch.device(\"cuda\" if torch.cuda.is_available() else \"cpu\")\n",
    "# model = model.to(device)\n",
    "# model.train()\n",
    "# o=model(tokensTrain[0]['input_ids'], attention_mask=tokensTrain[0]['attention_mask'],labels=torch.tensor(lab).to(device,dtype = torch.long).view(1, -1))"
   ]
  },
  {
   "cell_type": "markdown",
   "metadata": {
    "id": "VEOA6mDWFNmZ"
   },
   "source": [
    "Defining a class to implement early stopping"
   ]
  },
  {
   "cell_type": "code",
   "execution_count": 36,
   "metadata": {
    "id": "8rWLr7AItgxL"
   },
   "outputs": [],
   "source": [
    "class EarlyStopping(object):\n",
    "    def __init__(self,patience,higher_is_better,tolerance,save_path,model):\n",
    "        self.patience=patience\n",
    "        self.higher_is_better = higher_is_better\n",
    "        self.best_score= -100000 if self.higher_is_better else 100000\n",
    "        self.tolerance=tolerance ### score should inc/dec by this much to by pass early stopping\n",
    "        self.ctr=0\n",
    "        self.save_path=save_path\n",
    "        self.model=model\n",
    "\n",
    "    def check(self,metric):\n",
    "        if self.ctr<self.patience:\n",
    "\n",
    "            if self.higher_is_better:\n",
    "                if metric>=(self.best_score+self.tolerance):\n",
    "                    self.best_score=metric\n",
    "                    self.ctr =0\n",
    "                    torch.save(self.model.state_dict(), self.save_path)\n",
    "                else:\n",
    "                     self.ctr += 1\n",
    "            else:\n",
    "                if metric<=(self.best_score-self.tolerance):\n",
    "                    self.best_score=metric\n",
    "                    self.ctr =0\n",
    "                    torch.save(self.model.state_dict(), self.save_path)\n",
    "                else:\n",
    "                     self.ctr += 1\n",
    "            return True\n",
    "\n",
    "        else:\n",
    "            return False"
   ]
  },
  {
   "cell_type": "markdown",
   "metadata": {
    "id": "CL0FqSFjFTod"
   },
   "source": [
    "Funtion to get the desired metrics in a dictionary form"
   ]
  },
  {
   "cell_type": "code",
   "execution_count": 37,
   "metadata": {
    "id": "XZ1l3NSYyTSv"
   },
   "outputs": [],
   "source": [
    "\n",
    "def getMetrics(predictions,labels):\n",
    "    ignoreToken=-100\n",
    "    predictions = predictions.flatten()\n",
    "    labels = labels.flatten()\n",
    "\n",
    "    predictions = predictions[labels != ignoreToken]\n",
    "    labels = labels[labels != ignoreToken]\n",
    "\n",
    "    predictions = predictions.to(\"cpu\")\n",
    "    labels = labels.to(\"cpu\")\n",
    "\n",
    "    acc = accuracy_score(labels,predictions)\n",
    "    f1_scores = f1_score(labels, predictions, average = None)\n",
    "\n",
    "    metrics ={}\n",
    "    for class_id, f1 in enumerate(f1_scores):\n",
    "        metrics[\"f1\"+labelDict.get(class_id)]=f1\n",
    "\n",
    "    f1_weighted_avg = f1_score(labels, predictions, average = \"weighted\")\n",
    "\n",
    "    metrics[\"acc\"] = round(acc ,3)\n",
    "    metrics[\"f1_weighted_avg\"]= round(f1_weighted_avg, 3)\n",
    "    return metrics\n"
   ]
  },
  {
   "cell_type": "code",
   "execution_count": 38,
   "metadata": {
    "id": "6o3GsTITb4MF"
   },
   "outputs": [],
   "source": [
    "# len(torch.tensor(getLabelIds(a[0].word_ids(),wordLabels[0])).to(dtype = torch.long))"
   ]
  },
  {
   "cell_type": "code",
   "execution_count": 39,
   "metadata": {
    "id": "VYvnZcuFg4Ck"
   },
   "outputs": [],
   "source": [
    "# batchSize = 8\n",
    "# testDSG1 = datasetNer(tokensTestG1, torch.tensor(labelsTestG1))\n",
    "# testLoaderG1 = DataLoader(testDSG1, batch_size = batchSize, shuffle = False)"
   ]
  },
  {
   "cell_type": "markdown",
   "metadata": {
    "id": "F8Vb3dEmFbwV"
   },
   "source": [
    "Merging test sets"
   ]
  },
  {
   "cell_type": "code",
   "execution_count": 40,
   "metadata": {
    "id": "nYSa1Uof8-j9"
   },
   "outputs": [],
   "source": [
    "\n",
    "tokensTestG4.extend(tokensTestG1)\n",
    "tokensTestG4.extend(tokensTestG2)\n",
    "tokensTestG4.extend(tokensTestG3)\n",
    "\n",
    "\n",
    "labelsTestG4.extend(labelsTestG1)\n",
    "labelsTestG4.extend(labelsTestG2)\n",
    "labelsTestG4.extend(labelsTestG3)"
   ]
  },
  {
   "cell_type": "markdown",
   "metadata": {
    "id": "sFJ3g60LFgRM"
   },
   "source": [
    "Please input the path for your current model and the path to save the model for task T4"
   ]
  },
  {
   "cell_type": "code",
   "execution_count": 41,
   "metadata": {
    "id": "g3jiX4875nGm"
   },
   "outputs": [],
   "source": [
    "pathToCurrentModel = 'drive/MyDrive/nerDataset/nerModelG3.zip'\n",
    "pathToSaveT4Model = 'drive/MyDrive/nerDataset/nerModelG4.zip'\n"
   ]
  },
  {
   "cell_type": "code",
   "execution_count": 41,
   "metadata": {
    "id": "DhaZC-bC5nKB"
   },
   "outputs": [],
   "source": []
  },
  {
   "cell_type": "code",
   "execution_count": 42,
   "metadata": {
    "colab": {
     "base_uri": "https://localhost:8080/",
     "height": 66,
     "referenced_widgets": [
      "29e1b881e33846c0b92069b4fe704713",
      "b44195624b1a4d9dba5c4bbc24a10235",
      "7460198954f74499b08cc70cbf5a8f4a",
      "215b6cef88a4426699a5725d891582e2",
      "c4927859f3f445c69c981571626468c5",
      "b1434b9e4db04b54a50e3fafc2e4baf4",
      "fc13a785061849609d312bb51eefff16",
      "22fb51f5d35043ddbe4bbeed198993a5",
      "cf6d983ce92545169e58df70260d26b4",
      "41c0bc51f33e46c0b2857ee54775b9a7",
      "14206f8275e64a718719b38974b2cda0"
     ]
    },
    "id": "eElzYcmofres",
    "outputId": "2b0cad76-b461-4237-b99c-29a6dcd8ccc0"
   },
   "outputs": [
    {
     "name": "stdout",
     "output_type": "stream",
     "text": [
      "cuda\n"
     ]
    },
    {
     "data": {
      "application/vnd.jupyter.widget-view+json": {
       "model_id": "29e1b881e33846c0b92069b4fe704713",
       "version_major": 2,
       "version_minor": 0
      },
      "text/plain": [
       "Downloading pytorch_model.bin:   0%|          | 0.00/436M [00:00<?, ?B/s]"
      ]
     },
     "metadata": {},
     "output_type": "display_data"
    }
   ],
   "source": [
    "device = torch.device(\"cuda\" if torch.cuda.is_available() else \"cpu\")\n",
    "print(device)\n",
    "trainDS = datasetNer(tokensTrainG4, torch.tensor(labelsTrainG4))\n",
    "testDSG4 = datasetNer(tokensTestG4, torch.tensor(labelsTestG4))\n",
    "valDS = datasetNer(tokensValG4, torch.tensor(labelsValG4))\n",
    "\n",
    "batchSize = 8\n",
    "max_lr=3e-4\n",
    "early_stopping_rounds=2\n",
    "maximize=True\n",
    "num_epochs=20\n",
    "\n",
    "trainLoader = DataLoader(trainDS, batch_size = batchSize, shuffle = False)\n",
    "testLoaderG4 = DataLoader(testDSG4, batch_size = batchSize, shuffle = False)\n",
    "valLoader = DataLoader(valDS, batch_size = batchSize, shuffle = False)\n",
    "\n",
    "\n",
    "model = nerModel(len(uniqueLabels))\n",
    "# model = freeze_model(model,100)\n",
    "model = model.to(device)\n",
    "\n",
    "model.load_state_dict(torch.load(pathToCurrentModel,map_location=device))\n",
    "\n",
    "optimizer = AdamW(model.parameters(),lr=max_lr)\n",
    "schedular=torch.optim.lr_scheduler.OneCycleLR(optimizer=optimizer,max_lr=max_lr,epochs=num_epochs,\n",
    "                                        steps_per_epoch=len(trainDS))\n",
    "\n",
    "es=EarlyStopping(patience=early_stopping_rounds,higher_is_better=1,tolerance=0.0001,\n",
    "                save_path=pathToSaveT4Model,model=model)\n",
    "\n",
    "\n"
   ]
  },
  {
   "cell_type": "code",
   "execution_count": 43,
   "metadata": {
    "colab": {
     "base_uri": "https://localhost:8080/"
    },
    "id": "kUTvdGpHq1Qf",
    "outputId": "bcd1b700-8114-4d87-9af4-f35143e5efb7"
   },
   "outputs": [
    {
     "data": {
      "text/plain": [
       "nerModel(\n",
       "  (biobert): BertModel(\n",
       "    (embeddings): BertEmbeddings(\n",
       "      (word_embeddings): Embedding(28996, 768, padding_idx=0)\n",
       "      (position_embeddings): Embedding(512, 768)\n",
       "      (token_type_embeddings): Embedding(2, 768)\n",
       "      (LayerNorm): LayerNorm((768,), eps=1e-12, elementwise_affine=True)\n",
       "      (dropout): Dropout(p=0.1, inplace=False)\n",
       "    )\n",
       "    (encoder): BertEncoder(\n",
       "      (layer): ModuleList(\n",
       "        (0-11): 12 x BertLayer(\n",
       "          (attention): BertAttention(\n",
       "            (self): BertSelfAttention(\n",
       "              (query): Linear(in_features=768, out_features=768, bias=True)\n",
       "              (key): Linear(in_features=768, out_features=768, bias=True)\n",
       "              (value): Linear(in_features=768, out_features=768, bias=True)\n",
       "              (dropout): Dropout(p=0.1, inplace=False)\n",
       "            )\n",
       "            (output): BertSelfOutput(\n",
       "              (dense): Linear(in_features=768, out_features=768, bias=True)\n",
       "              (LayerNorm): LayerNorm((768,), eps=1e-12, elementwise_affine=True)\n",
       "              (dropout): Dropout(p=0.1, inplace=False)\n",
       "            )\n",
       "          )\n",
       "          (intermediate): BertIntermediate(\n",
       "            (dense): Linear(in_features=768, out_features=3072, bias=True)\n",
       "            (intermediate_act_fn): GELUActivation()\n",
       "          )\n",
       "          (output): BertOutput(\n",
       "            (dense): Linear(in_features=3072, out_features=768, bias=True)\n",
       "            (LayerNorm): LayerNorm((768,), eps=1e-12, elementwise_affine=True)\n",
       "            (dropout): Dropout(p=0.1, inplace=False)\n",
       "          )\n",
       "        )\n",
       "      )\n",
       "    )\n",
       "    (pooler): BertPooler(\n",
       "      (dense): Linear(in_features=768, out_features=768, bias=True)\n",
       "      (activation): Tanh()\n",
       "    )\n",
       "  )\n",
       "  (fc1): Linear(in_features=1536, out_features=512, bias=True)\n",
       "  (bn1): BatchNorm1d(512, eps=1e-05, momentum=0.1, affine=True, track_running_stats=True)\n",
       "  (fc2): Linear(in_features=512, out_features=256, bias=True)\n",
       "  (bn2): BatchNorm1d(512, eps=1e-05, momentum=0.1, affine=True, track_running_stats=True)\n",
       "  (fc3): Linear(in_features=256, out_features=128, bias=True)\n",
       "  (bn3): BatchNorm1d(512, eps=1e-05, momentum=0.1, affine=True, track_running_stats=True)\n",
       "  (dropout1): Dropout(p=0.1, inplace=False)\n",
       "  (dropout2): Dropout(p=0.1, inplace=False)\n",
       "  (gelu1): GELU(approximate='none')\n",
       "  (gelu3): GELU(approximate='none')\n",
       "  (gelu2): GELU(approximate='none')\n",
       "  (fc4): Linear(in_features=128, out_features=5, bias=True)\n",
       ")"
      ]
     },
     "execution_count": 43,
     "metadata": {},
     "output_type": "execute_result"
    }
   ],
   "source": [
    "model\n"
   ]
  },
  {
   "cell_type": "code",
   "execution_count": 44,
   "metadata": {
    "id": "yJeVuDugOlaE"
   },
   "outputs": [],
   "source": [
    "# tokensTrainG1[0][\"input_ids\"].to(device).shape\n",
    "# tokensTrainG1[0][\"attention_mask\"].to(device).shape"
   ]
  },
  {
   "cell_type": "code",
   "execution_count": 45,
   "metadata": {
    "id": "JJMijVLtvxzh"
   },
   "outputs": [],
   "source": [
    "# o=model(tokensTrainG1[0][\"input_ids\"].to(device),tokensTrainG1[0][\"attention_mask\"].to(device))"
   ]
  },
  {
   "cell_type": "code",
   "execution_count": 45,
   "metadata": {
    "id": "fM8gEi_0P4hd"
   },
   "outputs": [],
   "source": []
  },
  {
   "cell_type": "code",
   "execution_count": 46,
   "metadata": {
    "id": "aWLyIN4rwAAa"
   },
   "outputs": [],
   "source": [
    "# tokensTrainG1[1]"
   ]
  },
  {
   "cell_type": "code",
   "execution_count": 47,
   "metadata": {
    "id": "mphjnJ27xZ2A"
   },
   "outputs": [],
   "source": [
    "# ceLoss(o.squeeze(),torch.tensor(labelsTrainG1[0]).squeeze())"
   ]
  },
  {
   "cell_type": "code",
   "execution_count": 48,
   "metadata": {
    "id": "iVAY-TEQwMJB"
   },
   "outputs": [],
   "source": [
    "# len(labelsTrainG1[0])"
   ]
  },
  {
   "cell_type": "code",
   "execution_count": 49,
   "metadata": {
    "id": "VH1VDdPslc-V"
   },
   "outputs": [],
   "source": [
    "# def train(trainData,testData,epochs, optimizer):\n",
    "#      for i in range(epochs):\n",
    "\n",
    "#         model.train()\n",
    "#         for xTrain, yTrain in tqdm(trainData):\n",
    "#             optimizer.zero_grad()\n",
    "#             # print(xTrain['input_ids'].squeeze(1).shape,xTrain['attention_mask'].squeeze(1).shape,yTrain.shape)\n",
    "\n",
    "#             output= model(xTrain['input_ids'].squeeze(1).to(device), xTrain['attention_mask'].squeeze(1).to(device),\n",
    "#                            yTrain.to(device))\n",
    "#             loss=output.loss\n",
    "#             logits=output.logits\n",
    "#             print(loss.item())\n",
    "#             loss.backward()\n",
    "#             optimizer.step()"
   ]
  },
  {
   "cell_type": "markdown",
   "metadata": {
    "id": "2_0dV7FaFtaw"
   },
   "source": [
    "Validation loop to check early stopping"
   ]
  },
  {
   "cell_type": "code",
   "execution_count": 50,
   "metadata": {
    "id": "pRwNLtUcRccc"
   },
   "outputs": [],
   "source": [
    "def validate_loop(valid_dl,model,model_dict):\n",
    "\n",
    "    model.eval()\n",
    "    with torch.no_grad():\n",
    "        loss_=0\n",
    "        pred_list=[]\n",
    "        tar_list=[]\n",
    "    preds=None\n",
    "    labels=None\n",
    "    total_loss_val =0\n",
    "    j=0\n",
    "    for X,Y in valid_dl:\n",
    "        j+=1\n",
    "        mask = X['attention_mask'].squeeze(1).to(device)\n",
    "        input_id = X['input_ids'].squeeze(1).to(device)\n",
    "        Y = Y.to(device)\n",
    "        output = model(input_id, mask, Y)\n",
    "        loss, logits = output\n",
    "        if preds==None: preds = logits.argmax(dim= -1)\n",
    "        else: preds = torch.cat((preds,logits.argmax(dim=-1)),0)\n",
    "        if labels==None: labels = Y\n",
    "        else: labels = torch.cat((labels,Y),0)\n",
    "        total_loss_val += loss.item()\n",
    "\n",
    "    valMetrics = getMetrics(preds,labels)\n",
    "    # train_results = train_metrics.return_avg_metrics(len(trainData))\n",
    "    print(f\"Validation Loss: {total_loss_val / j}\")\n",
    "    print(valMetrics)\n",
    "    model_dict['valid_params']['avg_loss'].append(total_loss_val /j)\n",
    "    model_dict['valid_params']['metric'].append(valMetrics.get(\"f1cancer\")+valMetrics.get(\"f1treatment\")+valMetrics.get(\"f1chronic_disease\")+valMetrics.get(\"f1allergy_name\"))\n",
    "\n",
    "    return model_dict"
   ]
  },
  {
   "cell_type": "code",
   "execution_count": 51,
   "metadata": {
    "id": "9UftI6WJuAN1"
   },
   "outputs": [],
   "source": [
    "def init_state_dict():\n",
    "    d={}\n",
    "    # d['batch_num']=0\n",
    "    d['valid_params'] = defaultdict(list)\n",
    "    d['test_params'] = {}\n",
    "    d['train_params'] =defaultdict(list)\n",
    "    return d"
   ]
  },
  {
   "cell_type": "code",
   "execution_count": 52,
   "metadata": {
    "id": "scVaBLFztrOQ"
   },
   "outputs": [],
   "source": [
    "def train(trainData,testData,valData,testG1,testG2,epochs, optimizer, schedular,early_stopping,ceLoss=None):\n",
    "    model_dict=init_state_dict()\n",
    "    for i in range(epochs):\n",
    "        model.train() #train mode\n",
    "        total_loss_train = 0\n",
    "        j=0\n",
    "        preds,labels=None,None\n",
    "        for train_data, train_label in tqdm(trainData):\n",
    "            j+=1\n",
    "            train_label = train_label.to(device)\n",
    "            '''\n",
    "            squeeze in order to match the sizes. From [batch,1,seq_len] --> [batch,seq_len]\n",
    "            '''\n",
    "            mask = train_data['attention_mask'].squeeze(1).to(device)\n",
    "            input_id = train_data['input_ids'].squeeze(1).to(device)\n",
    "\n",
    "            optimizer.zero_grad()\n",
    "            # model_dict['batch_num']+=1\n",
    "            loss,logits = model(input_id, mask,train_label)\n",
    "            # loss = ceLoss(logits.squeeze(),train_label.squeeze())\n",
    "            if preds==None: preds = logits.argmax(dim= -1)\n",
    "            else: preds = torch.cat((preds,logits.argmax(dim=-1)),0)\n",
    "            if labels==None: labels = train_label\n",
    "            else: labels = torch.cat((labels,train_label),0)\n",
    "            # print(preds.shape,labels.shape)\n",
    "            # #compute metrics\n",
    "            # train_metrics.update(predictions, train_label)\n",
    "            total_loss_train += loss.item()\n",
    "            print(total_loss_train/j,i)\n",
    "            #grad step\n",
    "            loss.backward()\n",
    "            optimizer.step()\n",
    "\n",
    "        trainMetrics = getMetrics(preds,labels)\n",
    "        # train_results = train_metrics.return_avg_metrics(len(trainData))\n",
    "        print(f\"Train Loss: {total_loss_train / j}\")\n",
    "        print(trainMetrics)\n",
    "        model_dict['train_params']['avg_loss'].append(total_loss_train / j)\n",
    "        model_dict['train_params']['metric'].append(trainMetrics.get(\"f1_weighted_avg\"))\n",
    "        model_dict['epoch_num']=i\n",
    "\n",
    "        # if schedular is not None:\n",
    "        #     schedular.step(metrics = val_metric)\n",
    "\n",
    "        model_dict=validate_loop(valid_dl=valData,model=model,model_dict=model_dict)\n",
    "        if(testG1 is not None):\n",
    "            print(\"Evaluating on G1\")\n",
    "            eval(testG1,None,None,model,init_state_dict())\n",
    "        if(testG2 is not None):\n",
    "            print(\"Evaluating on G2\")\n",
    "            eval(testG2,None,None,model,init_state_dict())\n",
    "        val_metric=model_dict['valid_params']['metric'][-1]\n",
    "        if not early_stopping.check(val_metric):\n",
    "            print(\"Early stopping at current epoch\")\n",
    "            break\n",
    "\n",
    "    '''\n",
    "    EVALUATION MODE\n",
    "    '''\n",
    "    model.eval()\n",
    "\n",
    "    total_loss_test=0\n",
    "    preds,labels=None,None\n",
    "    j=0\n",
    "    with torch.no_grad():\n",
    "        for test_data, test_label in testData:\n",
    "            j+=1\n",
    "\n",
    "            test_label = test_label.to(device)\n",
    "\n",
    "            mask = test_data['attention_mask'].squeeze(1).to(device)\n",
    "            input_id = test_data['input_ids'].squeeze(1).to(device)\n",
    "\n",
    "            output = model(input_id, mask, test_label)\n",
    "            loss, logits = output\n",
    "\n",
    "            if preds==None: preds = logits.argmax(dim= -1)\n",
    "            else: preds = torch.cat((preds,logits.argmax(dim=-1)),0)\n",
    "            if labels==None: labels = test_label\n",
    "            else: labels = torch.cat((labels,test_label),0)\n",
    "            # dev_metrics.update(predictions, dev_label)\n",
    "            total_loss_test += loss.item()\n",
    "    testMetrics = getMetrics(preds,labels)\n",
    "    print(f\"Test Loss: {total_loss_test / j}\" )\n",
    "    print(testMetrics)\n",
    "    model_dict['test_params']['avg_loss']=total_loss_test / j\n",
    "    model_dict['test_params']['metric']=testMetrics\n",
    "    return model_dict"
   ]
  },
  {
   "cell_type": "code",
   "execution_count": 52,
   "metadata": {
    "id": "xEASIqidrDsE"
   },
   "outputs": [],
   "source": [
    "\n"
   ]
  },
  {
   "cell_type": "code",
   "execution_count": null,
   "metadata": {
    "id": "6XWMWL6aDtkk"
   },
   "outputs": [],
   "source": [
    "import warnings\n",
    "warnings.filterwarnings(\"ignore\")\n",
    "model_dictG4=train(trainLoader,testLoaderG4,valLoader,None, None,num_epochs,optimizer,schedular,es)"
   ]
  },
  {
   "cell_type": "code",
   "execution_count": 53,
   "metadata": {
    "id": "H1Oeotu6eqiR"
   },
   "outputs": [],
   "source": [
    "\n"
   ]
  },
  {
   "cell_type": "markdown",
   "metadata": {
    "id": "PpqBofEfFygM"
   },
   "source": [
    "Fucntion to evaluate on test data"
   ]
  },
  {
   "cell_type": "code",
   "execution_count": 54,
   "metadata": {
    "id": "5E7vNhtQeyho"
   },
   "outputs": [],
   "source": [
    "def eval(testData1,testData2,testData3,model,model_dict):\n",
    "    '''\n",
    "    EVALUATION MODe\n",
    "    '''\n",
    "    model.eval()\n",
    "\n",
    "    total_loss_test=0\n",
    "    preds,labels=None,None\n",
    "    j=0\n",
    "    with torch.no_grad():\n",
    "        for test_data, test_label in testData1:\n",
    "            j+=1\n",
    "\n",
    "            test_label = test_label.to(device)\n",
    "\n",
    "            mask = test_data['attention_mask'].squeeze(1).to(device)\n",
    "            input_id = test_data['input_ids'].squeeze(1).to(device)\n",
    "\n",
    "            output = model(input_id, mask, test_label)\n",
    "            loss, logits = output\n",
    "\n",
    "            if preds==None: preds = logits.argmax(dim= -1)\n",
    "            else: preds = torch.cat((preds,logits.argmax(dim=-1)),0)\n",
    "            if labels==None: labels = test_label\n",
    "            else: labels = torch.cat((labels,test_label),0)\n",
    "            # dev_metrics.update(predictions, dev_label)\n",
    "            total_loss_test += loss.item()\n",
    "    if(testData2 is not None):\n",
    "        with torch.no_grad():\n",
    "            for test_data, test_label in testData2:\n",
    "                j+=1\n",
    "\n",
    "                test_label = test_label.to(device)\n",
    "\n",
    "                mask = test_data['attention_mask'].squeeze(1).to(device)\n",
    "                input_id = test_data['input_ids'].squeeze(1).to(device)\n",
    "\n",
    "                output = model(input_id, mask, test_label)\n",
    "                loss, logits = output\n",
    "\n",
    "                if preds==None: preds = logits.argmax(dim= -1)\n",
    "                else: preds = torch.cat((preds,logits.argmax(dim=-1)),0)\n",
    "                if labels==None: labels = test_label\n",
    "                else: labels = torch.cat((labels,test_label),0)\n",
    "                # dev_metrics.update(predictions, dev_label)\n",
    "                total_loss_test += loss.item()\n",
    "    if(testData3 is not None):\n",
    "        with torch.no_grad():\n",
    "            for test_data, test_label in testData3:\n",
    "                j+=1\n",
    "\n",
    "                test_label = test_label.to(device)\n",
    "\n",
    "                mask = test_data['attention_mask'].squeeze(1).to(device)\n",
    "                input_id = test_data['input_ids'].squeeze(1).to(device)\n",
    "\n",
    "                output = model(input_id, mask, test_label)\n",
    "                loss, logits = output\n",
    "\n",
    "                if preds==None: preds = logits.argmax(dim= -1)\n",
    "                else: preds = torch.cat((preds,logits.argmax(dim=-1)),0)\n",
    "                if labels==None: labels = test_label\n",
    "                else: labels = torch.cat((labels,test_label),0)\n",
    "                # dev_metrics.update(predictions, dev_label)\n",
    "                total_loss_test += loss.item()\n",
    "    testMetrics = getMetrics(preds,labels)\n",
    "    print(f\"Test Loss: {total_loss_test / j}\" )\n",
    "    print(testMetrics)\n",
    "    model_dict['test_params']['avg_loss']=total_loss_test / j\n",
    "    model_dict['test_params']['metric']=testMetrics\n",
    "    return model_dict"
   ]
  },
  {
   "cell_type": "markdown",
   "metadata": {
    "id": "8YPdPzFHF57v"
   },
   "source": [
    "#Loading Saved Model"
   ]
  },
  {
   "cell_type": "code",
   "execution_count": 55,
   "metadata": {
    "colab": {
     "base_uri": "https://localhost:8080/"
    },
    "id": "Oqx9hBsJfK9N",
    "outputId": "1e9e693f-1c51-46bb-b84d-f2d981cac430"
   },
   "outputs": [
    {
     "data": {
      "text/plain": [
       "<All keys matched successfully>"
      ]
     },
     "execution_count": 55,
     "metadata": {},
     "output_type": "execute_result"
    }
   ],
   "source": [
    "model.load_state_dict(torch.load(pathToSaveT4Model,map_location=device))\n"
   ]
  },
  {
   "cell_type": "markdown",
   "metadata": {
    "id": "aH37wApkF3iB"
   },
   "source": [
    "#Final Results"
   ]
  },
  {
   "cell_type": "code",
   "execution_count": 56,
   "metadata": {
    "colab": {
     "base_uri": "https://localhost:8080/"
    },
    "id": "FfryXxqjfan8",
    "outputId": "187cc35a-8f7d-4637-89e7-176ee4f5ab79"
   },
   "outputs": [
    {
     "name": "stdout",
     "output_type": "stream",
     "text": [
      "Test Loss: 0.2841113363067771\n",
      "{'f1cancer': 0.8700920988851187, 'f1chronic_disease': 0.8733492097856679, 'f1treatment': 0.8615516135926481, 'f1allergy_name': 0.833780160857909, 'f1other': 0.9301340687209917, 'acc': 0.905, 'f1_weighted_avg': 0.906}\n"
     ]
    }
   ],
   "source": [
    "model_dictG4 = eval(testLoaderG4,None,None,model,init_state_dict())"
   ]
  },
  {
   "cell_type": "code",
   "execution_count": null,
   "metadata": {
    "id": "LQPQieEfs3zj"
   },
   "outputs": [],
   "source": []
  }
 ],
 "metadata": {
  "colab": {
   "provenance": []
  },
  "kernelspec": {
   "display_name": "Python (shubham)",
   "language": "python",
   "name": "shubham"
  },
  "language_info": {
   "codemirror_mode": {
    "name": "ipython",
    "version": 3
   },
   "file_extension": ".py",
   "mimetype": "text/x-python",
   "name": "python",
   "nbconvert_exporter": "python",
   "pygments_lexer": "ipython3",
   "version": "3.9.18"
  },
  "widgets": {
   "application/vnd.jupyter.widget-state+json": {
    "0ac00bcf58ef4342abdf16abd8db3671": {
     "model_module": "@jupyter-widgets/base",
     "model_module_version": "1.2.0",
     "model_name": "LayoutModel",
     "state": {
      "_model_module": "@jupyter-widgets/base",
      "_model_module_version": "1.2.0",
      "_model_name": "LayoutModel",
      "_view_count": null,
      "_view_module": "@jupyter-widgets/base",
      "_view_module_version": "1.2.0",
      "_view_name": "LayoutView",
      "align_content": null,
      "align_items": null,
      "align_self": null,
      "border": null,
      "bottom": null,
      "display": null,
      "flex": null,
      "flex_flow": null,
      "grid_area": null,
      "grid_auto_columns": null,
      "grid_auto_flow": null,
      "grid_auto_rows": null,
      "grid_column": null,
      "grid_gap": null,
      "grid_row": null,
      "grid_template_areas": null,
      "grid_template_columns": null,
      "grid_template_rows": null,
      "height": null,
      "justify_content": null,
      "justify_items": null,
      "left": null,
      "margin": null,
      "max_height": null,
      "max_width": null,
      "min_height": null,
      "min_width": null,
      "object_fit": null,
      "object_position": null,
      "order": null,
      "overflow": null,
      "overflow_x": null,
      "overflow_y": null,
      "padding": null,
      "right": null,
      "top": null,
      "visibility": null,
      "width": null
     }
    },
    "14206f8275e64a718719b38974b2cda0": {
     "model_module": "@jupyter-widgets/controls",
     "model_module_version": "1.5.0",
     "model_name": "DescriptionStyleModel",
     "state": {
      "_model_module": "@jupyter-widgets/controls",
      "_model_module_version": "1.5.0",
      "_model_name": "DescriptionStyleModel",
      "_view_count": null,
      "_view_module": "@jupyter-widgets/base",
      "_view_module_version": "1.2.0",
      "_view_name": "StyleView",
      "description_width": ""
     }
    },
    "215b6cef88a4426699a5725d891582e2": {
     "model_module": "@jupyter-widgets/controls",
     "model_module_version": "1.5.0",
     "model_name": "HTMLModel",
     "state": {
      "_dom_classes": [],
      "_model_module": "@jupyter-widgets/controls",
      "_model_module_version": "1.5.0",
      "_model_name": "HTMLModel",
      "_view_count": null,
      "_view_module": "@jupyter-widgets/controls",
      "_view_module_version": "1.5.0",
      "_view_name": "HTMLView",
      "description": "",
      "description_tooltip": null,
      "layout": "IPY_MODEL_41c0bc51f33e46c0b2857ee54775b9a7",
      "placeholder": "​",
      "style": "IPY_MODEL_14206f8275e64a718719b38974b2cda0",
      "value": " 436M/436M [00:04&lt;00:00, 162MB/s]"
     }
    },
    "22fb51f5d35043ddbe4bbeed198993a5": {
     "model_module": "@jupyter-widgets/base",
     "model_module_version": "1.2.0",
     "model_name": "LayoutModel",
     "state": {
      "_model_module": "@jupyter-widgets/base",
      "_model_module_version": "1.2.0",
      "_model_name": "LayoutModel",
      "_view_count": null,
      "_view_module": "@jupyter-widgets/base",
      "_view_module_version": "1.2.0",
      "_view_name": "LayoutView",
      "align_content": null,
      "align_items": null,
      "align_self": null,
      "border": null,
      "bottom": null,
      "display": null,
      "flex": null,
      "flex_flow": null,
      "grid_area": null,
      "grid_auto_columns": null,
      "grid_auto_flow": null,
      "grid_auto_rows": null,
      "grid_column": null,
      "grid_gap": null,
      "grid_row": null,
      "grid_template_areas": null,
      "grid_template_columns": null,
      "grid_template_rows": null,
      "height": null,
      "justify_content": null,
      "justify_items": null,
      "left": null,
      "margin": null,
      "max_height": null,
      "max_width": null,
      "min_height": null,
      "min_width": null,
      "object_fit": null,
      "object_position": null,
      "order": null,
      "overflow": null,
      "overflow_x": null,
      "overflow_y": null,
      "padding": null,
      "right": null,
      "top": null,
      "visibility": null,
      "width": null
     }
    },
    "260edf9a8588483ba8a7911bc70f68c0": {
     "model_module": "@jupyter-widgets/base",
     "model_module_version": "1.2.0",
     "model_name": "LayoutModel",
     "state": {
      "_model_module": "@jupyter-widgets/base",
      "_model_module_version": "1.2.0",
      "_model_name": "LayoutModel",
      "_view_count": null,
      "_view_module": "@jupyter-widgets/base",
      "_view_module_version": "1.2.0",
      "_view_name": "LayoutView",
      "align_content": null,
      "align_items": null,
      "align_self": null,
      "border": null,
      "bottom": null,
      "display": null,
      "flex": null,
      "flex_flow": null,
      "grid_area": null,
      "grid_auto_columns": null,
      "grid_auto_flow": null,
      "grid_auto_rows": null,
      "grid_column": null,
      "grid_gap": null,
      "grid_row": null,
      "grid_template_areas": null,
      "grid_template_columns": null,
      "grid_template_rows": null,
      "height": null,
      "justify_content": null,
      "justify_items": null,
      "left": null,
      "margin": null,
      "max_height": null,
      "max_width": null,
      "min_height": null,
      "min_width": null,
      "object_fit": null,
      "object_position": null,
      "order": null,
      "overflow": null,
      "overflow_x": null,
      "overflow_y": null,
      "padding": null,
      "right": null,
      "top": null,
      "visibility": null,
      "width": null
     }
    },
    "29e1b881e33846c0b92069b4fe704713": {
     "model_module": "@jupyter-widgets/controls",
     "model_module_version": "1.5.0",
     "model_name": "HBoxModel",
     "state": {
      "_dom_classes": [],
      "_model_module": "@jupyter-widgets/controls",
      "_model_module_version": "1.5.0",
      "_model_name": "HBoxModel",
      "_view_count": null,
      "_view_module": "@jupyter-widgets/controls",
      "_view_module_version": "1.5.0",
      "_view_name": "HBoxView",
      "box_style": "",
      "children": [
       "IPY_MODEL_b44195624b1a4d9dba5c4bbc24a10235",
       "IPY_MODEL_7460198954f74499b08cc70cbf5a8f4a",
       "IPY_MODEL_215b6cef88a4426699a5725d891582e2"
      ],
      "layout": "IPY_MODEL_c4927859f3f445c69c981571626468c5"
     }
    },
    "33ab09dab81c4c579b83ed962fbaa96b": {
     "model_module": "@jupyter-widgets/controls",
     "model_module_version": "1.5.0",
     "model_name": "HBoxModel",
     "state": {
      "_dom_classes": [],
      "_model_module": "@jupyter-widgets/controls",
      "_model_module_version": "1.5.0",
      "_model_name": "HBoxModel",
      "_view_count": null,
      "_view_module": "@jupyter-widgets/controls",
      "_view_module_version": "1.5.0",
      "_view_name": "HBoxView",
      "box_style": "",
      "children": [
       "IPY_MODEL_d9327e59d4dc40d1bbce4a5aa6bb7258",
       "IPY_MODEL_5bddb2724806455eb0461450686ba2fb",
       "IPY_MODEL_b3ac68fb5ad64dfda87a2ad62bee8c36"
      ],
      "layout": "IPY_MODEL_79e13f028a634cb69fea9496db31477b"
     }
    },
    "3548464b26cf42389f7ad5e589a3e4aa": {
     "model_module": "@jupyter-widgets/base",
     "model_module_version": "1.2.0",
     "model_name": "LayoutModel",
     "state": {
      "_model_module": "@jupyter-widgets/base",
      "_model_module_version": "1.2.0",
      "_model_name": "LayoutModel",
      "_view_count": null,
      "_view_module": "@jupyter-widgets/base",
      "_view_module_version": "1.2.0",
      "_view_name": "LayoutView",
      "align_content": null,
      "align_items": null,
      "align_self": null,
      "border": null,
      "bottom": null,
      "display": null,
      "flex": null,
      "flex_flow": null,
      "grid_area": null,
      "grid_auto_columns": null,
      "grid_auto_flow": null,
      "grid_auto_rows": null,
      "grid_column": null,
      "grid_gap": null,
      "grid_row": null,
      "grid_template_areas": null,
      "grid_template_columns": null,
      "grid_template_rows": null,
      "height": null,
      "justify_content": null,
      "justify_items": null,
      "left": null,
      "margin": null,
      "max_height": null,
      "max_width": null,
      "min_height": null,
      "min_width": null,
      "object_fit": null,
      "object_position": null,
      "order": null,
      "overflow": null,
      "overflow_x": null,
      "overflow_y": null,
      "padding": null,
      "right": null,
      "top": null,
      "visibility": null,
      "width": null
     }
    },
    "399e103a92ae4e529431eaab03d9cb8f": {
     "model_module": "@jupyter-widgets/controls",
     "model_module_version": "1.5.0",
     "model_name": "DescriptionStyleModel",
     "state": {
      "_model_module": "@jupyter-widgets/controls",
      "_model_module_version": "1.5.0",
      "_model_name": "DescriptionStyleModel",
      "_view_count": null,
      "_view_module": "@jupyter-widgets/base",
      "_view_module_version": "1.2.0",
      "_view_name": "StyleView",
      "description_width": ""
     }
    },
    "41c0bc51f33e46c0b2857ee54775b9a7": {
     "model_module": "@jupyter-widgets/base",
     "model_module_version": "1.2.0",
     "model_name": "LayoutModel",
     "state": {
      "_model_module": "@jupyter-widgets/base",
      "_model_module_version": "1.2.0",
      "_model_name": "LayoutModel",
      "_view_count": null,
      "_view_module": "@jupyter-widgets/base",
      "_view_module_version": "1.2.0",
      "_view_name": "LayoutView",
      "align_content": null,
      "align_items": null,
      "align_self": null,
      "border": null,
      "bottom": null,
      "display": null,
      "flex": null,
      "flex_flow": null,
      "grid_area": null,
      "grid_auto_columns": null,
      "grid_auto_flow": null,
      "grid_auto_rows": null,
      "grid_column": null,
      "grid_gap": null,
      "grid_row": null,
      "grid_template_areas": null,
      "grid_template_columns": null,
      "grid_template_rows": null,
      "height": null,
      "justify_content": null,
      "justify_items": null,
      "left": null,
      "margin": null,
      "max_height": null,
      "max_width": null,
      "min_height": null,
      "min_width": null,
      "object_fit": null,
      "object_position": null,
      "order": null,
      "overflow": null,
      "overflow_x": null,
      "overflow_y": null,
      "padding": null,
      "right": null,
      "top": null,
      "visibility": null,
      "width": null
     }
    },
    "4d628a8762bf4f33b368d05948894012": {
     "model_module": "@jupyter-widgets/base",
     "model_module_version": "1.2.0",
     "model_name": "LayoutModel",
     "state": {
      "_model_module": "@jupyter-widgets/base",
      "_model_module_version": "1.2.0",
      "_model_name": "LayoutModel",
      "_view_count": null,
      "_view_module": "@jupyter-widgets/base",
      "_view_module_version": "1.2.0",
      "_view_name": "LayoutView",
      "align_content": null,
      "align_items": null,
      "align_self": null,
      "border": null,
      "bottom": null,
      "display": null,
      "flex": null,
      "flex_flow": null,
      "grid_area": null,
      "grid_auto_columns": null,
      "grid_auto_flow": null,
      "grid_auto_rows": null,
      "grid_column": null,
      "grid_gap": null,
      "grid_row": null,
      "grid_template_areas": null,
      "grid_template_columns": null,
      "grid_template_rows": null,
      "height": null,
      "justify_content": null,
      "justify_items": null,
      "left": null,
      "margin": null,
      "max_height": null,
      "max_width": null,
      "min_height": null,
      "min_width": null,
      "object_fit": null,
      "object_position": null,
      "order": null,
      "overflow": null,
      "overflow_x": null,
      "overflow_y": null,
      "padding": null,
      "right": null,
      "top": null,
      "visibility": null,
      "width": null
     }
    },
    "5bddb2724806455eb0461450686ba2fb": {
     "model_module": "@jupyter-widgets/controls",
     "model_module_version": "1.5.0",
     "model_name": "FloatProgressModel",
     "state": {
      "_dom_classes": [],
      "_model_module": "@jupyter-widgets/controls",
      "_model_module_version": "1.5.0",
      "_model_name": "FloatProgressModel",
      "_view_count": null,
      "_view_module": "@jupyter-widgets/controls",
      "_view_module_version": "1.5.0",
      "_view_name": "ProgressView",
      "bar_style": "success",
      "description": "",
      "description_tooltip": null,
      "layout": "IPY_MODEL_0ac00bcf58ef4342abdf16abd8db3671",
      "max": 213450,
      "min": 0,
      "orientation": "horizontal",
      "style": "IPY_MODEL_8ede9405142e4c1f8b920152563c76eb",
      "value": 213450
     }
    },
    "740c69c46b05415e851c89deb5520753": {
     "model_module": "@jupyter-widgets/base",
     "model_module_version": "1.2.0",
     "model_name": "LayoutModel",
     "state": {
      "_model_module": "@jupyter-widgets/base",
      "_model_module_version": "1.2.0",
      "_model_name": "LayoutModel",
      "_view_count": null,
      "_view_module": "@jupyter-widgets/base",
      "_view_module_version": "1.2.0",
      "_view_name": "LayoutView",
      "align_content": null,
      "align_items": null,
      "align_self": null,
      "border": null,
      "bottom": null,
      "display": null,
      "flex": null,
      "flex_flow": null,
      "grid_area": null,
      "grid_auto_columns": null,
      "grid_auto_flow": null,
      "grid_auto_rows": null,
      "grid_column": null,
      "grid_gap": null,
      "grid_row": null,
      "grid_template_areas": null,
      "grid_template_columns": null,
      "grid_template_rows": null,
      "height": null,
      "justify_content": null,
      "justify_items": null,
      "left": null,
      "margin": null,
      "max_height": null,
      "max_width": null,
      "min_height": null,
      "min_width": null,
      "object_fit": null,
      "object_position": null,
      "order": null,
      "overflow": null,
      "overflow_x": null,
      "overflow_y": null,
      "padding": null,
      "right": null,
      "top": null,
      "visibility": null,
      "width": null
     }
    },
    "7460198954f74499b08cc70cbf5a8f4a": {
     "model_module": "@jupyter-widgets/controls",
     "model_module_version": "1.5.0",
     "model_name": "FloatProgressModel",
     "state": {
      "_dom_classes": [],
      "_model_module": "@jupyter-widgets/controls",
      "_model_module_version": "1.5.0",
      "_model_name": "FloatProgressModel",
      "_view_count": null,
      "_view_module": "@jupyter-widgets/controls",
      "_view_module_version": "1.5.0",
      "_view_name": "ProgressView",
      "bar_style": "success",
      "description": "",
      "description_tooltip": null,
      "layout": "IPY_MODEL_22fb51f5d35043ddbe4bbeed198993a5",
      "max": 435778770,
      "min": 0,
      "orientation": "horizontal",
      "style": "IPY_MODEL_cf6d983ce92545169e58df70260d26b4",
      "value": 435778770
     }
    },
    "79e13f028a634cb69fea9496db31477b": {
     "model_module": "@jupyter-widgets/base",
     "model_module_version": "1.2.0",
     "model_name": "LayoutModel",
     "state": {
      "_model_module": "@jupyter-widgets/base",
      "_model_module_version": "1.2.0",
      "_model_name": "LayoutModel",
      "_view_count": null,
      "_view_module": "@jupyter-widgets/base",
      "_view_module_version": "1.2.0",
      "_view_name": "LayoutView",
      "align_content": null,
      "align_items": null,
      "align_self": null,
      "border": null,
      "bottom": null,
      "display": null,
      "flex": null,
      "flex_flow": null,
      "grid_area": null,
      "grid_auto_columns": null,
      "grid_auto_flow": null,
      "grid_auto_rows": null,
      "grid_column": null,
      "grid_gap": null,
      "grid_row": null,
      "grid_template_areas": null,
      "grid_template_columns": null,
      "grid_template_rows": null,
      "height": null,
      "justify_content": null,
      "justify_items": null,
      "left": null,
      "margin": null,
      "max_height": null,
      "max_width": null,
      "min_height": null,
      "min_width": null,
      "object_fit": null,
      "object_position": null,
      "order": null,
      "overflow": null,
      "overflow_x": null,
      "overflow_y": null,
      "padding": null,
      "right": null,
      "top": null,
      "visibility": null,
      "width": null
     }
    },
    "856462a46b3a447e9dd6b037257539ef": {
     "model_module": "@jupyter-widgets/controls",
     "model_module_version": "1.5.0",
     "model_name": "DescriptionStyleModel",
     "state": {
      "_model_module": "@jupyter-widgets/controls",
      "_model_module_version": "1.5.0",
      "_model_name": "DescriptionStyleModel",
      "_view_count": null,
      "_view_module": "@jupyter-widgets/base",
      "_view_module_version": "1.2.0",
      "_view_name": "StyleView",
      "description_width": ""
     }
    },
    "8703bdd06b304842a711e2dfa8d85f28": {
     "model_module": "@jupyter-widgets/controls",
     "model_module_version": "1.5.0",
     "model_name": "ProgressStyleModel",
     "state": {
      "_model_module": "@jupyter-widgets/controls",
      "_model_module_version": "1.5.0",
      "_model_name": "ProgressStyleModel",
      "_view_count": null,
      "_view_module": "@jupyter-widgets/base",
      "_view_module_version": "1.2.0",
      "_view_name": "StyleView",
      "bar_color": null,
      "description_width": ""
     }
    },
    "8ede9405142e4c1f8b920152563c76eb": {
     "model_module": "@jupyter-widgets/controls",
     "model_module_version": "1.5.0",
     "model_name": "ProgressStyleModel",
     "state": {
      "_model_module": "@jupyter-widgets/controls",
      "_model_module_version": "1.5.0",
      "_model_name": "ProgressStyleModel",
      "_view_count": null,
      "_view_module": "@jupyter-widgets/base",
      "_view_module_version": "1.2.0",
      "_view_name": "StyleView",
      "bar_color": null,
      "description_width": ""
     }
    },
    "906515fa703e45bba4fd5e0ce197b7cb": {
     "model_module": "@jupyter-widgets/controls",
     "model_module_version": "1.5.0",
     "model_name": "DescriptionStyleModel",
     "state": {
      "_model_module": "@jupyter-widgets/controls",
      "_model_module_version": "1.5.0",
      "_model_name": "DescriptionStyleModel",
      "_view_count": null,
      "_view_module": "@jupyter-widgets/base",
      "_view_module_version": "1.2.0",
      "_view_name": "StyleView",
      "description_width": ""
     }
    },
    "9b5c3156affa49d7bdcf4c36ffb8393d": {
     "model_module": "@jupyter-widgets/controls",
     "model_module_version": "1.5.0",
     "model_name": "HBoxModel",
     "state": {
      "_dom_classes": [],
      "_model_module": "@jupyter-widgets/controls",
      "_model_module_version": "1.5.0",
      "_model_name": "HBoxModel",
      "_view_count": null,
      "_view_module": "@jupyter-widgets/controls",
      "_view_module_version": "1.5.0",
      "_view_name": "HBoxView",
      "box_style": "",
      "children": [
       "IPY_MODEL_b6b480968f3b4649a29e3c9f9bbc774a",
       "IPY_MODEL_e1701868ebe1447d921b42b817ebbacb",
       "IPY_MODEL_f2e70df8d5584080bb8946365c3e9fff"
      ],
      "layout": "IPY_MODEL_f950516e59004d20ba06598d936ad5b6"
     }
    },
    "b1434b9e4db04b54a50e3fafc2e4baf4": {
     "model_module": "@jupyter-widgets/base",
     "model_module_version": "1.2.0",
     "model_name": "LayoutModel",
     "state": {
      "_model_module": "@jupyter-widgets/base",
      "_model_module_version": "1.2.0",
      "_model_name": "LayoutModel",
      "_view_count": null,
      "_view_module": "@jupyter-widgets/base",
      "_view_module_version": "1.2.0",
      "_view_name": "LayoutView",
      "align_content": null,
      "align_items": null,
      "align_self": null,
      "border": null,
      "bottom": null,
      "display": null,
      "flex": null,
      "flex_flow": null,
      "grid_area": null,
      "grid_auto_columns": null,
      "grid_auto_flow": null,
      "grid_auto_rows": null,
      "grid_column": null,
      "grid_gap": null,
      "grid_row": null,
      "grid_template_areas": null,
      "grid_template_columns": null,
      "grid_template_rows": null,
      "height": null,
      "justify_content": null,
      "justify_items": null,
      "left": null,
      "margin": null,
      "max_height": null,
      "max_width": null,
      "min_height": null,
      "min_width": null,
      "object_fit": null,
      "object_position": null,
      "order": null,
      "overflow": null,
      "overflow_x": null,
      "overflow_y": null,
      "padding": null,
      "right": null,
      "top": null,
      "visibility": null,
      "width": null
     }
    },
    "b3ac68fb5ad64dfda87a2ad62bee8c36": {
     "model_module": "@jupyter-widgets/controls",
     "model_module_version": "1.5.0",
     "model_name": "HTMLModel",
     "state": {
      "_dom_classes": [],
      "_model_module": "@jupyter-widgets/controls",
      "_model_module_version": "1.5.0",
      "_model_name": "HTMLModel",
      "_view_count": null,
      "_view_module": "@jupyter-widgets/controls",
      "_view_module_version": "1.5.0",
      "_view_name": "HTMLView",
      "description": "",
      "description_tooltip": null,
      "layout": "IPY_MODEL_ba681016b5de4d4d9d272db186ffec6a",
      "placeholder": "​",
      "style": "IPY_MODEL_b63a91a2fa4a40af8bf34b866e4f87ac",
      "value": " 213k/213k [00:00&lt;00:00, 1.72MB/s]"
     }
    },
    "b44195624b1a4d9dba5c4bbc24a10235": {
     "model_module": "@jupyter-widgets/controls",
     "model_module_version": "1.5.0",
     "model_name": "HTMLModel",
     "state": {
      "_dom_classes": [],
      "_model_module": "@jupyter-widgets/controls",
      "_model_module_version": "1.5.0",
      "_model_name": "HTMLModel",
      "_view_count": null,
      "_view_module": "@jupyter-widgets/controls",
      "_view_module_version": "1.5.0",
      "_view_name": "HTMLView",
      "description": "",
      "description_tooltip": null,
      "layout": "IPY_MODEL_b1434b9e4db04b54a50e3fafc2e4baf4",
      "placeholder": "​",
      "style": "IPY_MODEL_fc13a785061849609d312bb51eefff16",
      "value": "Downloading pytorch_model.bin: 100%"
     }
    },
    "b63a91a2fa4a40af8bf34b866e4f87ac": {
     "model_module": "@jupyter-widgets/controls",
     "model_module_version": "1.5.0",
     "model_name": "DescriptionStyleModel",
     "state": {
      "_model_module": "@jupyter-widgets/controls",
      "_model_module_version": "1.5.0",
      "_model_name": "DescriptionStyleModel",
      "_view_count": null,
      "_view_module": "@jupyter-widgets/base",
      "_view_module_version": "1.2.0",
      "_view_name": "StyleView",
      "description_width": ""
     }
    },
    "b6b480968f3b4649a29e3c9f9bbc774a": {
     "model_module": "@jupyter-widgets/controls",
     "model_module_version": "1.5.0",
     "model_name": "HTMLModel",
     "state": {
      "_dom_classes": [],
      "_model_module": "@jupyter-widgets/controls",
      "_model_module_version": "1.5.0",
      "_model_name": "HTMLModel",
      "_view_count": null,
      "_view_module": "@jupyter-widgets/controls",
      "_view_module_version": "1.5.0",
      "_view_name": "HTMLView",
      "description": "",
      "description_tooltip": null,
      "layout": "IPY_MODEL_4d628a8762bf4f33b368d05948894012",
      "placeholder": "​",
      "style": "IPY_MODEL_399e103a92ae4e529431eaab03d9cb8f",
      "value": "Downloading (…)lve/main/config.json: 100%"
     }
    },
    "ba681016b5de4d4d9d272db186ffec6a": {
     "model_module": "@jupyter-widgets/base",
     "model_module_version": "1.2.0",
     "model_name": "LayoutModel",
     "state": {
      "_model_module": "@jupyter-widgets/base",
      "_model_module_version": "1.2.0",
      "_model_name": "LayoutModel",
      "_view_count": null,
      "_view_module": "@jupyter-widgets/base",
      "_view_module_version": "1.2.0",
      "_view_name": "LayoutView",
      "align_content": null,
      "align_items": null,
      "align_self": null,
      "border": null,
      "bottom": null,
      "display": null,
      "flex": null,
      "flex_flow": null,
      "grid_area": null,
      "grid_auto_columns": null,
      "grid_auto_flow": null,
      "grid_auto_rows": null,
      "grid_column": null,
      "grid_gap": null,
      "grid_row": null,
      "grid_template_areas": null,
      "grid_template_columns": null,
      "grid_template_rows": null,
      "height": null,
      "justify_content": null,
      "justify_items": null,
      "left": null,
      "margin": null,
      "max_height": null,
      "max_width": null,
      "min_height": null,
      "min_width": null,
      "object_fit": null,
      "object_position": null,
      "order": null,
      "overflow": null,
      "overflow_x": null,
      "overflow_y": null,
      "padding": null,
      "right": null,
      "top": null,
      "visibility": null,
      "width": null
     }
    },
    "c4927859f3f445c69c981571626468c5": {
     "model_module": "@jupyter-widgets/base",
     "model_module_version": "1.2.0",
     "model_name": "LayoutModel",
     "state": {
      "_model_module": "@jupyter-widgets/base",
      "_model_module_version": "1.2.0",
      "_model_name": "LayoutModel",
      "_view_count": null,
      "_view_module": "@jupyter-widgets/base",
      "_view_module_version": "1.2.0",
      "_view_name": "LayoutView",
      "align_content": null,
      "align_items": null,
      "align_self": null,
      "border": null,
      "bottom": null,
      "display": null,
      "flex": null,
      "flex_flow": null,
      "grid_area": null,
      "grid_auto_columns": null,
      "grid_auto_flow": null,
      "grid_auto_rows": null,
      "grid_column": null,
      "grid_gap": null,
      "grid_row": null,
      "grid_template_areas": null,
      "grid_template_columns": null,
      "grid_template_rows": null,
      "height": null,
      "justify_content": null,
      "justify_items": null,
      "left": null,
      "margin": null,
      "max_height": null,
      "max_width": null,
      "min_height": null,
      "min_width": null,
      "object_fit": null,
      "object_position": null,
      "order": null,
      "overflow": null,
      "overflow_x": null,
      "overflow_y": null,
      "padding": null,
      "right": null,
      "top": null,
      "visibility": null,
      "width": null
     }
    },
    "cf6d983ce92545169e58df70260d26b4": {
     "model_module": "@jupyter-widgets/controls",
     "model_module_version": "1.5.0",
     "model_name": "ProgressStyleModel",
     "state": {
      "_model_module": "@jupyter-widgets/controls",
      "_model_module_version": "1.5.0",
      "_model_name": "ProgressStyleModel",
      "_view_count": null,
      "_view_module": "@jupyter-widgets/base",
      "_view_module_version": "1.2.0",
      "_view_name": "StyleView",
      "bar_color": null,
      "description_width": ""
     }
    },
    "d9327e59d4dc40d1bbce4a5aa6bb7258": {
     "model_module": "@jupyter-widgets/controls",
     "model_module_version": "1.5.0",
     "model_name": "HTMLModel",
     "state": {
      "_dom_classes": [],
      "_model_module": "@jupyter-widgets/controls",
      "_model_module_version": "1.5.0",
      "_model_name": "HTMLModel",
      "_view_count": null,
      "_view_module": "@jupyter-widgets/controls",
      "_view_module_version": "1.5.0",
      "_view_name": "HTMLView",
      "description": "",
      "description_tooltip": null,
      "layout": "IPY_MODEL_3548464b26cf42389f7ad5e589a3e4aa",
      "placeholder": "​",
      "style": "IPY_MODEL_856462a46b3a447e9dd6b037257539ef",
      "value": "Downloading (…)solve/main/vocab.txt: 100%"
     }
    },
    "e1701868ebe1447d921b42b817ebbacb": {
     "model_module": "@jupyter-widgets/controls",
     "model_module_version": "1.5.0",
     "model_name": "FloatProgressModel",
     "state": {
      "_dom_classes": [],
      "_model_module": "@jupyter-widgets/controls",
      "_model_module_version": "1.5.0",
      "_model_name": "FloatProgressModel",
      "_view_count": null,
      "_view_module": "@jupyter-widgets/controls",
      "_view_module_version": "1.5.0",
      "_view_name": "ProgressView",
      "bar_style": "success",
      "description": "",
      "description_tooltip": null,
      "layout": "IPY_MODEL_740c69c46b05415e851c89deb5520753",
      "max": 385,
      "min": 0,
      "orientation": "horizontal",
      "style": "IPY_MODEL_8703bdd06b304842a711e2dfa8d85f28",
      "value": 385
     }
    },
    "f2e70df8d5584080bb8946365c3e9fff": {
     "model_module": "@jupyter-widgets/controls",
     "model_module_version": "1.5.0",
     "model_name": "HTMLModel",
     "state": {
      "_dom_classes": [],
      "_model_module": "@jupyter-widgets/controls",
      "_model_module_version": "1.5.0",
      "_model_name": "HTMLModel",
      "_view_count": null,
      "_view_module": "@jupyter-widgets/controls",
      "_view_module_version": "1.5.0",
      "_view_name": "HTMLView",
      "description": "",
      "description_tooltip": null,
      "layout": "IPY_MODEL_260edf9a8588483ba8a7911bc70f68c0",
      "placeholder": "​",
      "style": "IPY_MODEL_906515fa703e45bba4fd5e0ce197b7cb",
      "value": " 385/385 [00:00&lt;00:00, 25.4kB/s]"
     }
    },
    "f950516e59004d20ba06598d936ad5b6": {
     "model_module": "@jupyter-widgets/base",
     "model_module_version": "1.2.0",
     "model_name": "LayoutModel",
     "state": {
      "_model_module": "@jupyter-widgets/base",
      "_model_module_version": "1.2.0",
      "_model_name": "LayoutModel",
      "_view_count": null,
      "_view_module": "@jupyter-widgets/base",
      "_view_module_version": "1.2.0",
      "_view_name": "LayoutView",
      "align_content": null,
      "align_items": null,
      "align_self": null,
      "border": null,
      "bottom": null,
      "display": null,
      "flex": null,
      "flex_flow": null,
      "grid_area": null,
      "grid_auto_columns": null,
      "grid_auto_flow": null,
      "grid_auto_rows": null,
      "grid_column": null,
      "grid_gap": null,
      "grid_row": null,
      "grid_template_areas": null,
      "grid_template_columns": null,
      "grid_template_rows": null,
      "height": null,
      "justify_content": null,
      "justify_items": null,
      "left": null,
      "margin": null,
      "max_height": null,
      "max_width": null,
      "min_height": null,
      "min_width": null,
      "object_fit": null,
      "object_position": null,
      "order": null,
      "overflow": null,
      "overflow_x": null,
      "overflow_y": null,
      "padding": null,
      "right": null,
      "top": null,
      "visibility": null,
      "width": null
     }
    },
    "fc13a785061849609d312bb51eefff16": {
     "model_module": "@jupyter-widgets/controls",
     "model_module_version": "1.5.0",
     "model_name": "DescriptionStyleModel",
     "state": {
      "_model_module": "@jupyter-widgets/controls",
      "_model_module_version": "1.5.0",
      "_model_name": "DescriptionStyleModel",
      "_view_count": null,
      "_view_module": "@jupyter-widgets/base",
      "_view_module_version": "1.2.0",
      "_view_name": "StyleView",
      "description_width": ""
     }
    }
   }
  }
 },
 "nbformat": 4,
 "nbformat_minor": 1
}
